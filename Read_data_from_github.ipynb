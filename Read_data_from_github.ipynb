{
  "nbformat": 4,
  "nbformat_minor": 0,
  "metadata": {
    "colab": {
      "name": "Read data from github.ipynb",
      "version": "0.3.2",
      "provenance": [],
      "include_colab_link": true
    },
    "kernelspec": {
      "name": "python3",
      "display_name": "Python 3"
    }
  },
  "cells": [
    {
      "cell_type": "markdown",
      "metadata": {
        "id": "view-in-github",
        "colab_type": "text"
      },
      "source": [
        "<a href=\"https://colab.research.google.com/github/ashish2179/MachineLearning/blob/master/Read_data_from_github.ipynb\" target=\"_parent\"><img src=\"https://colab.research.google.com/assets/colab-badge.svg\" alt=\"Open In Colab\"/></a>"
      ]
    },
    {
      "metadata": {
        "id": "_5GG3EGjrqcn",
        "colab_type": "text"
      },
      "cell_type": "markdown",
      "source": [
        "#Clone the github repo"
      ]
    },
    {
      "metadata": {
        "id": "kR-cvrkaqVJa",
        "colab_type": "code",
        "colab": {
          "base_uri": "https://localhost:8080/",
          "height": 121
        },
        "outputId": "451dd5eb-d1eb-45b7-9ac3-ef96df0b3a69"
      },
      "cell_type": "code",
      "source": [
        "!git clone https://github.com/ashish2179/MachineLearning.git"
      ],
      "execution_count": 1,
      "outputs": [
        {
          "output_type": "stream",
          "text": [
            "Cloning into 'MachineLearning'...\n",
            "remote: Enumerating objects: 19, done.\u001b[K\n",
            "remote: Counting objects: 100% (19/19), done.\u001b[K\n",
            "remote: Compressing objects: 100% (17/17), done.\u001b[K\n",
            "remote: Total 19 (delta 5), reused 0 (delta 0), pack-reused 0\u001b[K\n",
            "Unpacking objects: 100% (19/19), done.\n"
          ],
          "name": "stdout"
        }
      ]
    },
    {
      "metadata": {
        "id": "eU4KItIDrylu",
        "colab_type": "text"
      },
      "cell_type": "markdown",
      "source": [
        "##list the dataset folder"
      ]
    },
    {
      "metadata": {
        "id": "kvXFUdlUqgoP",
        "colab_type": "code",
        "colab": {
          "base_uri": "https://localhost:8080/",
          "height": 34
        },
        "outputId": "4cdebcf7-febb-48ff-a14e-29928effc1b1"
      },
      "cell_type": "code",
      "source": [
        "!ls MachineLearning/dataset"
      ],
      "execution_count": 2,
      "outputs": [
        {
          "output_type": "stream",
          "text": [
            "PUBG_Player_Statistics.csv\n"
          ],
          "name": "stdout"
        }
      ]
    },
    {
      "metadata": {
        "id": "bwdoDgBfr6QG",
        "colab_type": "text"
      },
      "cell_type": "markdown",
      "source": [
        "#Read .csv file through pandas"
      ]
    },
    {
      "metadata": {
        "id": "BrJLkWFYqtXg",
        "colab_type": "code",
        "colab": {
          "base_uri": "https://localhost:8080/",
          "height": 226
        },
        "outputId": "d1da6f20-5036-4090-ec4a-66e6dd3b0a46"
      },
      "cell_type": "code",
      "source": [
        "import pandas as pd\n",
        "data = pd.read_csv('MachineLearning/dataset/PUBG_Player_Statistics.csv')\n",
        "data.head()"
      ],
      "execution_count": 5,
      "outputs": [
        {
          "output_type": "execute_result",
          "data": {
            "text/html": [
              "<div>\n",
              "<style scoped>\n",
              "    .dataframe tbody tr th:only-of-type {\n",
              "        vertical-align: middle;\n",
              "    }\n",
              "\n",
              "    .dataframe tbody tr th {\n",
              "        vertical-align: top;\n",
              "    }\n",
              "\n",
              "    .dataframe thead th {\n",
              "        text-align: right;\n",
              "    }\n",
              "</style>\n",
              "<table border=\"1\" class=\"dataframe\">\n",
              "  <thead>\n",
              "    <tr style=\"text-align: right;\">\n",
              "      <th></th>\n",
              "      <th>tracker_id</th>\n",
              "      <th>solo_KillDeathRatio</th>\n",
              "      <th>solo_WinRatio</th>\n",
              "      <th>solo_RoundsPlayed</th>\n",
              "      <th>solo_Wins</th>\n",
              "      <th>solo_WinTop10Ratio</th>\n",
              "      <th>solo_Top10s</th>\n",
              "      <th>solo_Top10Ratio</th>\n",
              "      <th>solo_Losses</th>\n",
              "      <th>solo_DamagePg</th>\n",
              "      <th>solo_HeadshotKillsPg</th>\n",
              "      <th>solo_HealsPg</th>\n",
              "      <th>solo_KillsPg</th>\n",
              "      <th>solo_MoveDistancePg</th>\n",
              "      <th>solo_TimeSurvivedPg</th>\n",
              "      <th>solo_Top10sPg</th>\n",
              "      <th>solo_Kills</th>\n",
              "      <th>solo_Assists</th>\n",
              "      <th>solo_HeadshotKillRatio</th>\n",
              "      <th>solo_AvgSurvivalTime</th>\n",
              "    </tr>\n",
              "  </thead>\n",
              "  <tbody>\n",
              "    <tr>\n",
              "      <th>0</th>\n",
              "      <td>34359</td>\n",
              "      <td>0.54</td>\n",
              "      <td>0.48</td>\n",
              "      <td>1681</td>\n",
              "      <td>8</td>\n",
              "      <td>0.05</td>\n",
              "      <td>114</td>\n",
              "      <td>6.8</td>\n",
              "      <td>1673</td>\n",
              "      <td>76.92</td>\n",
              "      <td>0.10</td>\n",
              "      <td>1.37</td>\n",
              "      <td>0.54</td>\n",
              "      <td>2017.76</td>\n",
              "      <td>715.67</td>\n",
              "      <td>0.07</td>\n",
              "      <td>911</td>\n",
              "      <td>91</td>\n",
              "      <td>0.18</td>\n",
              "      <td>871.71</td>\n",
              "    </tr>\n",
              "    <tr>\n",
              "      <th>1</th>\n",
              "      <td>70832</td>\n",
              "      <td>1.37</td>\n",
              "      <td>0.71</td>\n",
              "      <td>1552</td>\n",
              "      <td>11</td>\n",
              "      <td>0.08</td>\n",
              "      <td>125</td>\n",
              "      <td>8.1</td>\n",
              "      <td>1541</td>\n",
              "      <td>155.33</td>\n",
              "      <td>0.23</td>\n",
              "      <td>1.34</td>\n",
              "      <td>1.36</td>\n",
              "      <td>1943.60</td>\n",
              "      <td>631.10</td>\n",
              "      <td>0.08</td>\n",
              "      <td>2106</td>\n",
              "      <td>87</td>\n",
              "      <td>0.17</td>\n",
              "      <td>466.83</td>\n",
              "    </tr>\n",
              "    <tr>\n",
              "      <th>2</th>\n",
              "      <td>77162</td>\n",
              "      <td>0.53</td>\n",
              "      <td>0.26</td>\n",
              "      <td>1545</td>\n",
              "      <td>4</td>\n",
              "      <td>0.02</td>\n",
              "      <td>98</td>\n",
              "      <td>6.3</td>\n",
              "      <td>1541</td>\n",
              "      <td>69.65</td>\n",
              "      <td>0.09</td>\n",
              "      <td>0.79</td>\n",
              "      <td>0.53</td>\n",
              "      <td>1537.46</td>\n",
              "      <td>655.30</td>\n",
              "      <td>0.06</td>\n",
              "      <td>823</td>\n",
              "      <td>58</td>\n",
              "      <td>0.16</td>\n",
              "      <td>470.44</td>\n",
              "    </tr>\n",
              "    <tr>\n",
              "      <th>3</th>\n",
              "      <td>41250</td>\n",
              "      <td>0.87</td>\n",
              "      <td>0.78</td>\n",
              "      <td>1541</td>\n",
              "      <td>12</td>\n",
              "      <td>0.11</td>\n",
              "      <td>130</td>\n",
              "      <td>8.4</td>\n",
              "      <td>1529</td>\n",
              "      <td>117.32</td>\n",
              "      <td>0.17</td>\n",
              "      <td>1.17</td>\n",
              "      <td>0.86</td>\n",
              "      <td>2033.91</td>\n",
              "      <td>806.88</td>\n",
              "      <td>0.08</td>\n",
              "      <td>1332</td>\n",
              "      <td>105</td>\n",
              "      <td>0.20</td>\n",
              "      <td>880.84</td>\n",
              "    </tr>\n",
              "    <tr>\n",
              "      <th>4</th>\n",
              "      <td>168294</td>\n",
              "      <td>0.50</td>\n",
              "      <td>0.00</td>\n",
              "      <td>1537</td>\n",
              "      <td>0</td>\n",
              "      <td>0.00</td>\n",
              "      <td>80</td>\n",
              "      <td>5.2</td>\n",
              "      <td>1537</td>\n",
              "      <td>67.11</td>\n",
              "      <td>0.14</td>\n",
              "      <td>1.40</td>\n",
              "      <td>0.50</td>\n",
              "      <td>2534.69</td>\n",
              "      <td>750.92</td>\n",
              "      <td>0.05</td>\n",
              "      <td>761</td>\n",
              "      <td>83</td>\n",
              "      <td>0.28</td>\n",
              "      <td>565.15</td>\n",
              "    </tr>\n",
              "  </tbody>\n",
              "</table>\n",
              "</div>"
            ],
            "text/plain": [
              "   tracker_id  solo_KillDeathRatio  solo_WinRatio  solo_RoundsPlayed  \\\n",
              "0       34359                 0.54           0.48               1681   \n",
              "1       70832                 1.37           0.71               1552   \n",
              "2       77162                 0.53           0.26               1545   \n",
              "3       41250                 0.87           0.78               1541   \n",
              "4      168294                 0.50           0.00               1537   \n",
              "\n",
              "   solo_Wins  solo_WinTop10Ratio  solo_Top10s  solo_Top10Ratio  solo_Losses  \\\n",
              "0          8                0.05          114              6.8         1673   \n",
              "1         11                0.08          125              8.1         1541   \n",
              "2          4                0.02           98              6.3         1541   \n",
              "3         12                0.11          130              8.4         1529   \n",
              "4          0                0.00           80              5.2         1537   \n",
              "\n",
              "   solo_DamagePg  solo_HeadshotKillsPg  solo_HealsPg  solo_KillsPg  \\\n",
              "0          76.92                  0.10          1.37          0.54   \n",
              "1         155.33                  0.23          1.34          1.36   \n",
              "2          69.65                  0.09          0.79          0.53   \n",
              "3         117.32                  0.17          1.17          0.86   \n",
              "4          67.11                  0.14          1.40          0.50   \n",
              "\n",
              "   solo_MoveDistancePg  solo_TimeSurvivedPg  solo_Top10sPg  solo_Kills  \\\n",
              "0              2017.76               715.67           0.07         911   \n",
              "1              1943.60               631.10           0.08        2106   \n",
              "2              1537.46               655.30           0.06         823   \n",
              "3              2033.91               806.88           0.08        1332   \n",
              "4              2534.69               750.92           0.05         761   \n",
              "\n",
              "   solo_Assists  solo_HeadshotKillRatio  solo_AvgSurvivalTime  \n",
              "0            91                    0.18                871.71  \n",
              "1            87                    0.17                466.83  \n",
              "2            58                    0.16                470.44  \n",
              "3           105                    0.20                880.84  \n",
              "4            83                    0.28                565.15  "
            ]
          },
          "metadata": {
            "tags": []
          },
          "execution_count": 5
        }
      ]
    },
    {
      "metadata": {
        "id": "quYfWsNDrGM3",
        "colab_type": "code",
        "colab": {}
      },
      "cell_type": "code",
      "source": [
        ""
      ],
      "execution_count": 0,
      "outputs": []
    }
  ]
}