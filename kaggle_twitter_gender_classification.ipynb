{
  "nbformat": 4,
  "nbformat_minor": 0,
  "metadata": {
    "colab": {
      "name": "kaggle_twitter_gender_classification.ipynb",
      "version": "0.3.2",
      "provenance": [],
      "include_colab_link": true
    },
    "kernelspec": {
      "name": "python3",
      "display_name": "Python 3"
    }
  },
  "cells": [
    {
      "cell_type": "markdown",
      "metadata": {
        "id": "view-in-github",
        "colab_type": "text"
      },
      "source": [
        "<a href=\"https://colab.research.google.com/github/ashish2179/MachineLearning/blob/master/kaggle_twitter_gender_classification.ipynb\" target=\"_parent\"><img src=\"https://colab.research.google.com/assets/colab-badge.svg\" alt=\"Open In Colab\"/></a>"
      ]
    },
    {
      "metadata": {
        "id": "iUZ0sWDrcyFz",
        "colab_type": "text"
      },
      "cell_type": "markdown",
      "source": [
        "##Installing and importing Google dependencies"
      ]
    },
    {
      "metadata": {
        "id": "Rh7zgd2L60mv",
        "colab_type": "code",
        "outputId": "c703c6c9-aa0f-4c50-d5cb-e74c9efddd33",
        "colab": {
          "base_uri": "https://localhost:8080/",
          "height": 53
        }
      },
      "cell_type": "code",
      "source": [
        "!pip install -U -q pyDrive\n",
        "from pydrive.auth import GoogleAuth\n",
        "from pydrive.drive import GoogleDrive\n",
        "from google.colab import auth\n",
        "from oauth2client.client import GoogleCredentials"
      ],
      "execution_count": 0,
      "outputs": [
        {
          "output_type": "stream",
          "text": [
            "\u001b[?25l\r\u001b[K    1% |▎                               | 10kB 16.7MB/s eta 0:00:01\r\u001b[K    2% |▋                               | 20kB 1.8MB/s eta 0:00:01\r\u001b[K    3% |█                               | 30kB 2.6MB/s eta 0:00:01\r\u001b[K    4% |█▎                              | 40kB 1.7MB/s eta 0:00:01\r\u001b[K    5% |█▋                              | 51kB 2.1MB/s eta 0:00:01\r\u001b[K    6% |██                              | 61kB 2.5MB/s eta 0:00:01\r\u001b[K    7% |██▎                             | 71kB 2.9MB/s eta 0:00:01\r\u001b[K    8% |██▋                             | 81kB 3.3MB/s eta 0:00:01\r\u001b[K    9% |███                             | 92kB 3.7MB/s eta 0:00:01\r\u001b[K    10% |███▎                            | 102kB 2.8MB/s eta 0:00:01\r\u001b[K    11% |███▋                            | 112kB 2.8MB/s eta 0:00:01\r\u001b[K    12% |████                            | 122kB 4.0MB/s eta 0:00:01\r\u001b[K    13% |████▎                           | 133kB 4.0MB/s eta 0:00:01\r\u001b[K    14% |████▋                           | 143kB 7.4MB/s eta 0:00:01\r\u001b[K    15% |█████                           | 153kB 7.5MB/s eta 0:00:01\r\u001b[K    16% |█████▎                          | 163kB 7.6MB/s eta 0:00:01\r\u001b[K    17% |█████▋                          | 174kB 7.6MB/s eta 0:00:01\r\u001b[K    18% |██████                          | 184kB 7.7MB/s eta 0:00:01\r\u001b[K    19% |██████▎                         | 194kB 7.7MB/s eta 0:00:01\r\u001b[K    20% |██████▋                         | 204kB 40.7MB/s eta 0:00:01\r\u001b[K    21% |███████                         | 215kB 8.5MB/s eta 0:00:01\r\u001b[K    22% |███████▎                        | 225kB 8.4MB/s eta 0:00:01\r\u001b[K    23% |███████▋                        | 235kB 8.5MB/s eta 0:00:01\r\u001b[K    24% |████████                        | 245kB 8.5MB/s eta 0:00:01\r\u001b[K    25% |████████▎                       | 256kB 8.5MB/s eta 0:00:01\r\u001b[K    26% |████████▋                       | 266kB 8.3MB/s eta 0:00:01\r\u001b[K    27% |█████████                       | 276kB 8.3MB/s eta 0:00:01\r\u001b[K    29% |█████████▎                      | 286kB 8.3MB/s eta 0:00:01\r\u001b[K    30% |█████████▋                      | 296kB 8.3MB/s eta 0:00:01\r\u001b[K    31% |██████████                      | 307kB 8.5MB/s eta 0:00:01\r\u001b[K    32% |██████████▎                     | 317kB 45.9MB/s eta 0:00:01\r\u001b[K    33% |██████████▋                     | 327kB 48.1MB/s eta 0:00:01\r\u001b[K    34% |███████████                     | 337kB 48.5MB/s eta 0:00:01\r\u001b[K    35% |███████████▎                    | 348kB 45.9MB/s eta 0:00:01\r\u001b[K    36% |███████████▋                    | 358kB 46.0MB/s eta 0:00:01\r\u001b[K    37% |████████████                    | 368kB 53.4MB/s eta 0:00:01\r\u001b[K    38% |████████████▎                   | 378kB 53.8MB/s eta 0:00:01\r\u001b[K    39% |████████████▋                   | 389kB 53.9MB/s eta 0:00:01\r\u001b[K    40% |█████████████                   | 399kB 9.6MB/s eta 0:00:01\r\u001b[K    41% |█████████████▎                  | 409kB 9.5MB/s eta 0:00:01\r\u001b[K    42% |█████████████▋                  | 419kB 9.4MB/s eta 0:00:01\r\u001b[K    43% |██████████████                  | 430kB 9.4MB/s eta 0:00:01\r\u001b[K    44% |██████████████▎                 | 440kB 9.4MB/s eta 0:00:01\r\u001b[K    45% |██████████████▋                 | 450kB 9.4MB/s eta 0:00:01\r\u001b[K    46% |███████████████                 | 460kB 9.4MB/s eta 0:00:01\r\u001b[K    47% |███████████████▎                | 471kB 9.4MB/s eta 0:00:01\r\u001b[K    48% |███████████████▋                | 481kB 9.4MB/s eta 0:00:01\r\u001b[K    49% |████████████████                | 491kB 9.4MB/s eta 0:00:01\r\u001b[K    50% |████████████████▎               | 501kB 47.8MB/s eta 0:00:01\r\u001b[K    51% |████████████████▋               | 512kB 47.6MB/s eta 0:00:01\r\u001b[K    52% |█████████████████               | 522kB 48.4MB/s eta 0:00:01\r\u001b[K    53% |█████████████████▎              | 532kB 50.5MB/s eta 0:00:01\r\u001b[K    54% |█████████████████▋              | 542kB 51.7MB/s eta 0:00:01\r\u001b[K    55% |██████████████████              | 552kB 58.8MB/s eta 0:00:01\r\u001b[K    57% |██████████████████▎             | 563kB 59.9MB/s eta 0:00:01\r\u001b[K    58% |██████████████████▋             | 573kB 58.7MB/s eta 0:00:01\r\u001b[K    59% |███████████████████             | 583kB 58.2MB/s eta 0:00:01\r\u001b[K    60% |███████████████████▎            | 593kB 58.7MB/s eta 0:00:01\r\u001b[K    61% |███████████████████▋            | 604kB 58.0MB/s eta 0:00:01\r\u001b[K    62% |████████████████████            | 614kB 64.2MB/s eta 0:00:01\r\u001b[K    63% |████████████████████▎           | 624kB 63.6MB/s eta 0:00:01\r\u001b[K    64% |████████████████████▋           | 634kB 62.9MB/s eta 0:00:01\r\u001b[K    65% |█████████████████████           | 645kB 63.1MB/s eta 0:00:01\r\u001b[K    66% |█████████████████████▎          | 655kB 62.1MB/s eta 0:00:01\r\u001b[K    67% |█████████████████████▋          | 665kB 46.2MB/s eta 0:00:01\r\u001b[K    68% |██████████████████████          | 675kB 46.1MB/s eta 0:00:01\r\u001b[K    69% |██████████████████████▎         | 686kB 46.7MB/s eta 0:00:01\r\u001b[K    70% |██████████████████████▋         | 696kB 46.7MB/s eta 0:00:01\r\u001b[K    71% |███████████████████████         | 706kB 47.0MB/s eta 0:00:01\r\u001b[K    72% |███████████████████████▎        | 716kB 47.7MB/s eta 0:00:01\r\u001b[K    73% |███████████████████████▋        | 727kB 47.9MB/s eta 0:00:01\r\u001b[K    74% |████████████████████████        | 737kB 46.7MB/s eta 0:00:01\r\u001b[K    75% |████████████████████████▎       | 747kB 46.4MB/s eta 0:00:01\r\u001b[K    76% |████████████████████████▋       | 757kB 44.9MB/s eta 0:00:01\r\u001b[K    77% |████████████████████████▉       | 768kB 60.0MB/s eta 0:00:01\r\u001b[K    78% |█████████████████████████▏      | 778kB 61.2MB/s eta 0:00:01\r\u001b[K    79% |█████████████████████████▌      | 788kB 60.3MB/s eta 0:00:01\r\u001b[K    80% |█████████████████████████▉      | 798kB 61.0MB/s eta 0:00:01\r\u001b[K    81% |██████████████████████████▏     | 808kB 61.1MB/s eta 0:00:01\r\u001b[K    82% |██████████████████████████▌     | 819kB 16.8MB/s eta 0:00:01\r\u001b[K    83% |██████████████████████████▉     | 829kB 16.7MB/s eta 0:00:01\r\u001b[K    85% |███████████████████████████▏    | 839kB 16.7MB/s eta 0:00:01\r\u001b[K    86% |███████████████████████████▌    | 849kB 16.6MB/s eta 0:00:01\r\u001b[K    87% |███████████████████████████▉    | 860kB 15.8MB/s eta 0:00:01\r\u001b[K    88% |████████████████████████████▏   | 870kB 15.7MB/s eta 0:00:01\r\u001b[K    89% |████████████████████████████▌   | 880kB 15.7MB/s eta 0:00:01\r\u001b[K    90% |████████████████████████████▉   | 890kB 15.7MB/s eta 0:00:01\r\u001b[K    91% |█████████████████████████████▏  | 901kB 15.7MB/s eta 0:00:01\r\u001b[K    92% |█████████████████████████████▌  | 911kB 15.7MB/s eta 0:00:01\r\u001b[K    93% |█████████████████████████████▉  | 921kB 48.4MB/s eta 0:00:01\r\u001b[K    94% |██████████████████████████████▏ | 931kB 49.5MB/s eta 0:00:01\r\u001b[K    95% |██████████████████████████████▌ | 942kB 50.4MB/s eta 0:00:01\r\u001b[K    96% |██████████████████████████████▉ | 952kB 51.4MB/s eta 0:00:01\r\u001b[K    97% |███████████████████████████████▏| 962kB 63.8MB/s eta 0:00:01\r\u001b[K    98% |███████████████████████████████▌| 972kB 64.4MB/s eta 0:00:01\r\u001b[K    99% |███████████████████████████████▉| 983kB 63.2MB/s eta 0:00:01\r\u001b[K    100% |████████████████████████████████| 993kB 19.5MB/s \n",
            "\u001b[?25h  Building wheel for pyDrive (setup.py) ... \u001b[?25ldone\n",
            "\u001b[?25h"
          ],
          "name": "stdout"
        }
      ]
    },
    {
      "metadata": {
        "id": "LkFdiqTsbABV",
        "colab_type": "text"
      },
      "cell_type": "markdown",
      "source": [
        "##Googel Authentication"
      ]
    },
    {
      "metadata": {
        "id": "itJQ6vIVSnEf",
        "colab_type": "code",
        "colab": {}
      },
      "cell_type": "code",
      "source": [
        "#authentication\n",
        "\n",
        "auth.authenticate_user()\n",
        "gauth = GoogleAuth()\n",
        "gauth.credentials = GoogleCredentials.get_application_default()\n",
        "drive = GoogleDrive(gauth)"
      ],
      "execution_count": 0,
      "outputs": []
    },
    {
      "metadata": {
        "id": "RnSUxDJebHM-",
        "colab_type": "text"
      },
      "cell_type": "markdown",
      "source": [
        "## Kaggle API Authentication"
      ]
    },
    {
      "metadata": {
        "id": "m9nI0RiQRwQn",
        "colab_type": "code",
        "colab": {}
      },
      "cell_type": "code",
      "source": [
        "#doc_id = 1IApwUE_auFQrUG6BvHoOTFzZQKYERcFB\n",
        "\n",
        "pubg_data = drive.CreateFile({'id': '1IApwUE_auFQrUG6BvHoOTFzZQKYERcFB'})\n",
        "pubg_data.GetContentFile('kaggle.json')"
      ],
      "execution_count": 0,
      "outputs": []
    },
    {
      "metadata": {
        "id": "mlz9q-rvS5E4",
        "colab_type": "code",
        "outputId": "e0d2c335-c447-4f10-fcc0-5af91d498601",
        "colab": {
          "base_uri": "https://localhost:8080/",
          "height": 35
        }
      },
      "cell_type": "code",
      "source": [
        "# Let's make sure the kaggle.json file is present.\n",
        "!ls -lha kaggle.json"
      ],
      "execution_count": 0,
      "outputs": [
        {
          "output_type": "stream",
          "text": [
            "-rw-r--r-- 1 root root 72 Apr 10 03:33 kaggle.json\n"
          ],
          "name": "stdout"
        }
      ]
    },
    {
      "metadata": {
        "id": "x_KOyWDgdNs3",
        "colab_type": "text"
      },
      "cell_type": "markdown",
      "source": [
        "##install the Kaggle API client."
      ]
    },
    {
      "metadata": {
        "id": "-rSeHh5wTLHq",
        "colab_type": "code",
        "colab": {}
      },
      "cell_type": "code",
      "source": [
        "# Next, install the Kaggle API client.\n",
        "!pip install -q kaggle"
      ],
      "execution_count": 0,
      "outputs": []
    },
    {
      "metadata": {
        "id": "vcVUoWJxTXzv",
        "colab_type": "code",
        "colab": {}
      },
      "cell_type": "code",
      "source": [
        "# The Kaggle API client expects this file to be in ~/.kaggle,\n",
        "# so move it there.\n",
        "!mkdir -p ~/.kaggle\n",
        "!cp kaggle.json ~/.kaggle/\n",
        "\n",
        "# This permissions change avoids a warning on Kaggle tool startup.\n",
        "!chmod 600 ~/.kaggle/kaggle.json"
      ],
      "execution_count": 0,
      "outputs": []
    },
    {
      "metadata": {
        "id": "ILaDiA4fbXZH",
        "colab_type": "text"
      },
      "cell_type": "markdown",
      "source": [
        "##List Kaggle datasets"
      ]
    },
    {
      "metadata": {
        "id": "3J8j5FKKTuu7",
        "colab_type": "code",
        "outputId": "d34f456f-b8ad-43a5-da28-c5a6d11bc913",
        "colab": {
          "base_uri": "https://localhost:8080/",
          "height": 417
        }
      },
      "cell_type": "code",
      "source": [
        "# List available datasets.\n",
        "!kaggle datasets list -s Twitter"
      ],
      "execution_count": 0,
      "outputs": [
        {
          "output_type": "stream",
          "text": [
            "ref                                             title                                           size  lastUpdated          downloadCount  \n",
            "----------------------------------------------  ---------------------------------------------  -----  -------------------  -------------  \n",
            "crowdflower/twitter-airline-sentiment           Twitter US Airline Sentiment                     3MB  2016-10-06 03:11:23          22260  \n",
            "crowdflower/twitter-user-gender-classification  Twitter User Gender Classification               3MB  2016-11-21 01:48:06           7816  \n",
            "thoughtvector/customer-support-on-twitter       Customer Support on Twitter                    167MB  2017-12-03 23:44:27           3521  \n",
            "joshkyh/glove-twitter                           GloVe: Global Vectors for Word Representation  108MB  2017-09-18 22:01:53            314  \n",
            "fifthtribe/how-isis-uses-twitter                How ISIS Uses Twitter                            2MB  2016-05-17 23:53:32           5771  \n",
            "ywang311/twitter-sentiment                      twitter_sentiment                               56MB  2017-11-30 00:04:34            296  \n",
            "arathee2/demonetization-in-india-twitter-data   Demonetization in India Twitter Data           967KB  2017-04-21 17:35:02           4420  \n",
            "vincela9/charlottesville-on-twitter             #Charlottesville on Twitter                     85MB  2017-08-21 22:36:17            543  \n",
            "crowdflower/first-gop-debate-twitter-sentiment  First GOP Debate Twitter Sentiment               3MB  2016-10-06 03:19:29          10130  \n",
            "manoelribeiro/hateful-users-on-twitter          Hateful Users on Twitter                         2GB  2018-05-14 02:52:13            610  \n",
            "gwhittington/twitter2                           bitcoin twitter                                  1MB  2017-12-13 05:47:25            245  \n",
            "danielgrijalvas/twitter-threads                 Twitter Threads                                693KB  2018-05-27 02:39:45            292  \n",
            "rabinandan/twitter-sentiment                    twitter_sentiment                              577KB  2018-02-08 16:47:16            350  \n",
            "rtatman/twitter-vs-newsletter                   Twitter vs. Newsletter Impact                    1KB  2017-09-18 20:21:24            376  \n",
            "nltkdata/twitter-sample                         Twitter Sample                                  17MB  2017-08-21 04:10:23            281  \n",
            "hwassner/TwitterFriends                         Twitter Friends                                179MB  2016-09-02 13:28:00           1317  \n",
            "naominguyen7/glovetwitter100d                   Glove.twitter.100d                             397MB  2017-12-28 18:26:47             36  \n",
            "lgmoneda/jair-bolsonaro-twitter-data            Jair Bolsonaro Twitter data                    407KB  2019-01-26 16:39:02             35  \n",
            "kinguistics/election-day-tweets                 Election Day Tweets                             84MB  2016-11-26 23:01:06           1199  \n",
            "dryad/human-mobility-during-natural-disasters   Human Mobility During Natural Disasters         51MB  2017-08-30 21:39:34            801  \n"
          ],
          "name": "stdout"
        }
      ]
    },
    {
      "metadata": {
        "id": "x5Ubh2mobdyl",
        "colab_type": "text"
      },
      "cell_type": "markdown",
      "source": [
        "##Download Kaggle required dataset\n",
        "###(like here twitter-user-gender-classification)"
      ]
    },
    {
      "metadata": {
        "id": "88ONZ3G2U-ub",
        "colab_type": "code",
        "outputId": "5db0f576-62bf-4179-f702-5a4abe33592b",
        "colab": {
          "base_uri": "https://localhost:8080/",
          "height": 72
        }
      },
      "cell_type": "code",
      "source": [
        "# Copy the twitter data set locally.\n",
        "!kaggle datasets download -d crowdflower/twitter-user-gender-classification"
      ],
      "execution_count": 0,
      "outputs": [
        {
          "output_type": "stream",
          "text": [
            "Downloading twitter-user-gender-classification.zip to /content\n",
            "\r  0% 0.00/3.13M [00:00<?, ?B/s]\n",
            "\r100% 3.13M/3.13M [00:00<00:00, 106MB/s]\n"
          ],
          "name": "stdout"
        }
      ]
    },
    {
      "metadata": {
        "id": "PyPXtVT5VIw9",
        "colab_type": "code",
        "outputId": "fd499288-f0c1-4986-b806-055e8b536197",
        "colab": {
          "base_uri": "https://localhost:8080/",
          "height": 53
        }
      },
      "cell_type": "code",
      "source": [
        "!unzip twitter-user-gender-classification.zip"
      ],
      "execution_count": 0,
      "outputs": [
        {
          "output_type": "stream",
          "text": [
            "Archive:  twitter-user-gender-classification.zip\n",
            "  inflating: gender-classifier-DFE-791531.csv  \n"
          ],
          "name": "stdout"
        }
      ]
    },
    {
      "metadata": {
        "id": "VlxyfhmhVZSS",
        "colab_type": "text"
      },
      "cell_type": "markdown",
      "source": [
        "# Predict user gender based on Twitter profile information with text-data\n",
        "\n",
        "### Motivation:\n",
        "- This problem is interesting, oddly interesting...\n",
        "- Problem context is easily understandable\n",
        "- There's already a popular classification problem based on Twitter text: Sentiment classification"
      ]
    },
    {
      "metadata": {
        "id": "MyQpo4-8X5kn",
        "colab_type": "code",
        "colab": {}
      },
      "cell_type": "code",
      "source": [
        "# Import libraries\n",
        "\n",
        "import pandas as pd\n",
        "import numpy as np\n",
        "import matplotlib.pyplot as plt\n",
        "import seaborn as sns\n",
        "from sklearn.model_selection import train_test_split\n",
        "from sklearn.pipeline import Pipeline\n",
        "from sklearn.feature_extraction.text import TfidfVectorizer\n",
        "from sklearn.metrics import accuracy_score, confusion_matrix, classification_report\n",
        "\n",
        "#from sklearn_pandas import DataFrameMapper # Notice that this is actually Sklearn-Pandas library\n",
        "%matplotlib inline"
      ],
      "execution_count": 0,
      "outputs": []
    },
    {
      "metadata": {
        "id": "oHDhmRYnV5z6",
        "colab_type": "text"
      },
      "cell_type": "markdown",
      "source": [
        "## About Dataset\n",
        "\n",
        "This dataset is obtained from [Kaggle](https://www.kaggle.com/crowdflower/twitter-user-gender-classification/home).\n",
        "\n",
        "The dataset contains 20,000 rows, each with a user name, a random tweet, account profile and image, location, and even link and sidebar color.\n",
        "\n",
        "Attributes that do not provide useful information for _Gender classification_:\n",
        " - **_unit_id**: a unique id for user\n",
        " - **_last_judgment_at**: date and time of last contributor judgment; blank for gold standard observations\n",
        " - **user_timezone**: the timezone of the user\n",
        " - **tweet_coord**: if the user has location turned on, the coordinates as a string with the format \"[latitude, longitude]\"\n",
        " - **tweet_count**: number of tweets that the user has posted\n",
        " - **tweet_created**: when the random tweet (in the text column) was created\n",
        " - **tweet_id**: the tweet id of the random tweet\n",
        " - **tweet_location**: location of the tweet; seems to not be particularly normalized \n",
        " - **profileimage**: a link to the profile image\n",
        " - **created**: date and time when the profile was created\n",
        " \n",
        " \n",
        "Attributes that potentially provide useful information for _Gender classification_:\n",
        " - **_golden**: whether the user was included in the gold standard for the model; TRUE or FALSE\n",
        " - **_unit_state**: state of the observation; one of finalized (for contributor-judged) or golden (for gold standard observations)\n",
        " - **_trusted_judgments**: number of trusted judgments (int); always 3 for non-golden, and what may be a unique id for gold standard observations\n",
        " - **gender**: one of male, female, or brand (for non-human profiles)\n",
        " - **gender:confidence**: a float representing confidence in the provided gender\n",
        " - **gender_gold**: if the profile is golden, what is the gender?\n",
        " - **profile_yn**: \"no\" here seems to mean that the profile was meant to be part of the dataset but was not available when contributors went to judge it\n",
        " - **profile_yn:confidence**: confidence in the existence/non-existence of the profile\n",
        " - **profile_yn_gold**: whether the profile y/n value is golden\n",
        " - **description**: the user's profile description\n",
        " - **fav_number**: number of tweets the user has favorited\n",
        " - **link_color**: the link color on the profile, as a hex value\n",
        " - **name**: the user's name\n",
        " - **retweet_count**: number of times the user has retweeted (or possibly, been retweeted)\n",
        " - **sidebar_color**: color of the profile sidebar, as a hex value\n",
        " - **text**: text of a random one of the user's tweets\n"
      ]
    },
    {
      "metadata": {
        "id": "QQ7Ex6ytYACm",
        "colab_type": "code",
        "outputId": "6531d036-66fd-4094-dfd7-8ff7470dcb6b",
        "colab": {
          "base_uri": "https://localhost:8080/",
          "height": 399
        }
      },
      "cell_type": "code",
      "source": [
        "# Data Loading\n",
        "data = pd.read_csv('gender-classifier-DFE-791531.csv', encoding='latin-1')\n",
        "\n",
        "# Drop unnecessary columns/features\n",
        "data.drop (columns = ['_unit_id',\n",
        "                      '_last_judgment_at',\n",
        "                      'user_timezone',\n",
        "                      'tweet_coord',\n",
        "                      'tweet_count',\n",
        "                      'tweet_created', \n",
        "                      'tweet_id',\n",
        "                      'tweet_location',\n",
        "                      'profileimage',\n",
        "                      'created'], inplace = True)\n",
        "\n",
        "data.info()"
      ],
      "execution_count": 0,
      "outputs": [
        {
          "output_type": "stream",
          "text": [
            "<class 'pandas.core.frame.DataFrame'>\n",
            "RangeIndex: 20050 entries, 0 to 20049\n",
            "Data columns (total 16 columns):\n",
            "_golden                  20050 non-null bool\n",
            "_unit_state              20050 non-null object\n",
            "_trusted_judgments       20050 non-null int64\n",
            "gender                   19953 non-null object\n",
            "gender:confidence        20024 non-null float64\n",
            "profile_yn               20050 non-null object\n",
            "profile_yn:confidence    20050 non-null float64\n",
            "description              16306 non-null object\n",
            "fav_number               20050 non-null int64\n",
            "gender_gold              50 non-null object\n",
            "link_color               20050 non-null object\n",
            "name                     20050 non-null object\n",
            "profile_yn_gold          50 non-null object\n",
            "retweet_count            20050 non-null int64\n",
            "sidebar_color            20050 non-null object\n",
            "text                     20050 non-null object\n",
            "dtypes: bool(1), float64(2), int64(3), object(10)\n",
            "memory usage: 2.3+ MB\n"
          ],
          "name": "stdout"
        }
      ]
    },
    {
      "metadata": {
        "id": "CJGdAYvlYfMU",
        "colab_type": "code",
        "outputId": "d290943b-29eb-4ca6-ce15-fb31f99c03da",
        "colab": {
          "base_uri": "https://localhost:8080/",
          "height": 487
        }
      },
      "cell_type": "code",
      "source": [
        "data.head()"
      ],
      "execution_count": 0,
      "outputs": [
        {
          "output_type": "execute_result",
          "data": {
            "text/html": [
              "<div>\n",
              "<style scoped>\n",
              "    .dataframe tbody tr th:only-of-type {\n",
              "        vertical-align: middle;\n",
              "    }\n",
              "\n",
              "    .dataframe tbody tr th {\n",
              "        vertical-align: top;\n",
              "    }\n",
              "\n",
              "    .dataframe thead th {\n",
              "        text-align: right;\n",
              "    }\n",
              "</style>\n",
              "<table border=\"1\" class=\"dataframe\">\n",
              "  <thead>\n",
              "    <tr style=\"text-align: right;\">\n",
              "      <th></th>\n",
              "      <th>_golden</th>\n",
              "      <th>_unit_state</th>\n",
              "      <th>_trusted_judgments</th>\n",
              "      <th>gender</th>\n",
              "      <th>gender:confidence</th>\n",
              "      <th>profile_yn</th>\n",
              "      <th>profile_yn:confidence</th>\n",
              "      <th>description</th>\n",
              "      <th>fav_number</th>\n",
              "      <th>gender_gold</th>\n",
              "      <th>link_color</th>\n",
              "      <th>name</th>\n",
              "      <th>profile_yn_gold</th>\n",
              "      <th>retweet_count</th>\n",
              "      <th>sidebar_color</th>\n",
              "      <th>text</th>\n",
              "    </tr>\n",
              "  </thead>\n",
              "  <tbody>\n",
              "    <tr>\n",
              "      <th>0</th>\n",
              "      <td>False</td>\n",
              "      <td>finalized</td>\n",
              "      <td>3</td>\n",
              "      <td>male</td>\n",
              "      <td>1.0000</td>\n",
              "      <td>yes</td>\n",
              "      <td>1.0</td>\n",
              "      <td>i sing my own rhythm.</td>\n",
              "      <td>0</td>\n",
              "      <td>NaN</td>\n",
              "      <td>08C2C2</td>\n",
              "      <td>sheezy0</td>\n",
              "      <td>NaN</td>\n",
              "      <td>0</td>\n",
              "      <td>FFFFFF</td>\n",
              "      <td>Robbie E Responds To Critics After Win Against...</td>\n",
              "    </tr>\n",
              "    <tr>\n",
              "      <th>1</th>\n",
              "      <td>False</td>\n",
              "      <td>finalized</td>\n",
              "      <td>3</td>\n",
              "      <td>male</td>\n",
              "      <td>1.0000</td>\n",
              "      <td>yes</td>\n",
              "      <td>1.0</td>\n",
              "      <td>I'm the author of novels filled with family dr...</td>\n",
              "      <td>68</td>\n",
              "      <td>NaN</td>\n",
              "      <td>0084B4</td>\n",
              "      <td>DavdBurnett</td>\n",
              "      <td>NaN</td>\n",
              "      <td>0</td>\n",
              "      <td>C0DEED</td>\n",
              "      <td>ÛÏIt felt like they were my friends and I was...</td>\n",
              "    </tr>\n",
              "    <tr>\n",
              "      <th>2</th>\n",
              "      <td>False</td>\n",
              "      <td>finalized</td>\n",
              "      <td>3</td>\n",
              "      <td>male</td>\n",
              "      <td>0.6625</td>\n",
              "      <td>yes</td>\n",
              "      <td>1.0</td>\n",
              "      <td>louis whining and squealing and all</td>\n",
              "      <td>7696</td>\n",
              "      <td>NaN</td>\n",
              "      <td>ABB8C2</td>\n",
              "      <td>lwtprettylaugh</td>\n",
              "      <td>NaN</td>\n",
              "      <td>1</td>\n",
              "      <td>C0DEED</td>\n",
              "      <td>i absolutely adore when louis starts the songs...</td>\n",
              "    </tr>\n",
              "    <tr>\n",
              "      <th>3</th>\n",
              "      <td>False</td>\n",
              "      <td>finalized</td>\n",
              "      <td>3</td>\n",
              "      <td>male</td>\n",
              "      <td>1.0000</td>\n",
              "      <td>yes</td>\n",
              "      <td>1.0</td>\n",
              "      <td>Mobile guy.  49ers, Shazam, Google, Kleiner Pe...</td>\n",
              "      <td>202</td>\n",
              "      <td>NaN</td>\n",
              "      <td>0084B4</td>\n",
              "      <td>douggarland</td>\n",
              "      <td>NaN</td>\n",
              "      <td>0</td>\n",
              "      <td>C0DEED</td>\n",
              "      <td>Hi @JordanSpieth - Looking at the url - do you...</td>\n",
              "    </tr>\n",
              "    <tr>\n",
              "      <th>4</th>\n",
              "      <td>False</td>\n",
              "      <td>finalized</td>\n",
              "      <td>3</td>\n",
              "      <td>female</td>\n",
              "      <td>1.0000</td>\n",
              "      <td>yes</td>\n",
              "      <td>1.0</td>\n",
              "      <td>Ricky Wilson The Best FRONTMAN/Kaiser Chiefs T...</td>\n",
              "      <td>37318</td>\n",
              "      <td>NaN</td>\n",
              "      <td>3B94D9</td>\n",
              "      <td>WilfordGemma</td>\n",
              "      <td>NaN</td>\n",
              "      <td>0</td>\n",
              "      <td>0</td>\n",
              "      <td>Watching Neighbours on Sky+ catching up with t...</td>\n",
              "    </tr>\n",
              "  </tbody>\n",
              "</table>\n",
              "</div>"
            ],
            "text/plain": [
              "   _golden _unit_state  _trusted_judgments  gender  gender:confidence  \\\n",
              "0    False   finalized                   3    male             1.0000   \n",
              "1    False   finalized                   3    male             1.0000   \n",
              "2    False   finalized                   3    male             0.6625   \n",
              "3    False   finalized                   3    male             1.0000   \n",
              "4    False   finalized                   3  female             1.0000   \n",
              "\n",
              "  profile_yn  profile_yn:confidence  \\\n",
              "0        yes                    1.0   \n",
              "1        yes                    1.0   \n",
              "2        yes                    1.0   \n",
              "3        yes                    1.0   \n",
              "4        yes                    1.0   \n",
              "\n",
              "                                         description  fav_number gender_gold  \\\n",
              "0                              i sing my own rhythm.           0         NaN   \n",
              "1  I'm the author of novels filled with family dr...          68         NaN   \n",
              "2                louis whining and squealing and all        7696         NaN   \n",
              "3  Mobile guy.  49ers, Shazam, Google, Kleiner Pe...         202         NaN   \n",
              "4  Ricky Wilson The Best FRONTMAN/Kaiser Chiefs T...       37318         NaN   \n",
              "\n",
              "  link_color            name profile_yn_gold  retweet_count sidebar_color  \\\n",
              "0     08C2C2         sheezy0             NaN              0        FFFFFF   \n",
              "1     0084B4     DavdBurnett             NaN              0        C0DEED   \n",
              "2     ABB8C2  lwtprettylaugh             NaN              1        C0DEED   \n",
              "3     0084B4     douggarland             NaN              0        C0DEED   \n",
              "4     3B94D9    WilfordGemma             NaN              0             0   \n",
              "\n",
              "                                                text  \n",
              "0  Robbie E Responds To Critics After Win Against...  \n",
              "1  ÛÏIt felt like they were my friends and I was...  \n",
              "2  i absolutely adore when louis starts the songs...  \n",
              "3  Hi @JordanSpieth - Looking at the url - do you...  \n",
              "4  Watching Neighbours on Sky+ catching up with t...  "
            ]
          },
          "metadata": {
            "tags": []
          },
          "execution_count": 18
        }
      ]
    },
    {
      "metadata": {
        "id": "YQ6WCyNXWLB7",
        "colab_type": "text"
      },
      "cell_type": "markdown",
      "source": [
        "## Cleaning Dataset"
      ]
    },
    {
      "metadata": {
        "id": "H06iKr3dWSYZ",
        "colab_type": "text"
      },
      "cell_type": "markdown",
      "source": [
        "### 'Gender' Attribute (gender)"
      ]
    },
    {
      "metadata": {
        "id": "JBlcajpRbtOQ",
        "colab_type": "code",
        "outputId": "bd83b3f1-ba01-4b63-c847-1c4c4b6fd878",
        "colab": {
          "base_uri": "https://localhost:8080/",
          "height": 108
        }
      },
      "cell_type": "code",
      "source": [
        "data['gender'].value_counts()\n",
        "# We can see that there are 1117 unknown genders, so get rid of them"
      ],
      "execution_count": 0,
      "outputs": [
        {
          "output_type": "execute_result",
          "data": {
            "text/plain": [
              "female     6700\n",
              "male       6194\n",
              "brand      5942\n",
              "unknown    1117\n",
              "Name: gender, dtype: int64"
            ]
          },
          "metadata": {
            "tags": []
          },
          "execution_count": 19
        }
      ]
    },
    {
      "metadata": {
        "id": "YdioeHHtiVc3",
        "colab_type": "code",
        "outputId": "1f28f6d8-28c8-4d9a-ec8d-d7ce3a7768f0",
        "colab": {
          "base_uri": "https://localhost:8080/",
          "height": 90
        }
      },
      "cell_type": "code",
      "source": [
        "drop_items_idx = data[data['gender'] == 'unknown'].index\n",
        "\n",
        "data.drop (index = drop_items_idx, inplace = True)\n",
        "\n",
        "data['gender'].value_counts()"
      ],
      "execution_count": 0,
      "outputs": [
        {
          "output_type": "execute_result",
          "data": {
            "text/plain": [
              "female    6700\n",
              "male      6194\n",
              "brand     5942\n",
              "Name: gender, dtype: int64"
            ]
          },
          "metadata": {
            "tags": []
          },
          "execution_count": 20
        }
      ]
    },
    {
      "metadata": {
        "id": "2dDv5y4AWZgx",
        "colab_type": "text"
      },
      "cell_type": "markdown",
      "source": [
        "### 'Profile' Attribute (profile_yn, profile_yn:confidence, profile_yn_gold)\n",
        "\n",
        "**'No'**: Profile was meant to be part of the dataset but was not available when contributors went to judge it."
      ]
    },
    {
      "metadata": {
        "id": "r4GLs9rCj2Ts",
        "colab_type": "code",
        "outputId": "6098f3ea-0a2a-480a-c8a6-895167f3e549",
        "colab": {
          "base_uri": "https://localhost:8080/",
          "height": 1216
        }
      },
      "cell_type": "code",
      "source": [
        "print ('profile_yn information:\\n',data['profile_yn'].value_counts())\n",
        "\n",
        "data[data['profile_yn'] == 'no']['gender']\n",
        "\n"
      ],
      "execution_count": 0,
      "outputs": [
        {
          "output_type": "stream",
          "text": [
            "profile_yn information:\n",
            " yes    18836\n",
            "no        97\n",
            "Name: profile_yn, dtype: int64\n"
          ],
          "name": "stdout"
        },
        {
          "output_type": "execute_result",
          "data": {
            "text/plain": [
              "109      NaN\n",
              "137      NaN\n",
              "496      NaN\n",
              "582      NaN\n",
              "679      NaN\n",
              "749      NaN\n",
              "1179     NaN\n",
              "1664     NaN\n",
              "1698     NaN\n",
              "1963     NaN\n",
              "2118     NaN\n",
              "2245     NaN\n",
              "2272     NaN\n",
              "2377     NaN\n",
              "2537     NaN\n",
              "2596     NaN\n",
              "2717     NaN\n",
              "2751     NaN\n",
              "2765     NaN\n",
              "2886     NaN\n",
              "2980     NaN\n",
              "3190     NaN\n",
              "3195     NaN\n",
              "3219     NaN\n",
              "3337     NaN\n",
              "3381     NaN\n",
              "3553     NaN\n",
              "3791     NaN\n",
              "3942     NaN\n",
              "4008     NaN\n",
              "        ... \n",
              "12103    NaN\n",
              "12889    NaN\n",
              "13007    NaN\n",
              "14045    NaN\n",
              "15018    NaN\n",
              "15243    NaN\n",
              "15270    NaN\n",
              "15428    NaN\n",
              "15450    NaN\n",
              "15740    NaN\n",
              "15921    NaN\n",
              "16208    NaN\n",
              "16365    NaN\n",
              "16640    NaN\n",
              "16886    NaN\n",
              "16991    NaN\n",
              "17114    NaN\n",
              "17163    NaN\n",
              "18001    NaN\n",
              "18048    NaN\n",
              "18063    NaN\n",
              "18070    NaN\n",
              "18122    NaN\n",
              "18136    NaN\n",
              "18303    NaN\n",
              "18524    NaN\n",
              "18700    NaN\n",
              "18840    NaN\n",
              "19773    NaN\n",
              "19842    NaN\n",
              "Name: gender, Length: 97, dtype: object"
            ]
          },
          "metadata": {
            "tags": []
          },
          "execution_count": 21
        }
      ]
    },
    {
      "metadata": {
        "id": "N-Tgzqj-Wg9S",
        "colab_type": "text"
      },
      "cell_type": "markdown",
      "source": [
        "It is shown that all of 97 instances with **profile_yn** == **no** are all **NaN** in **gender**. \n",
        "\n",
        "Therefore, i get rid of these 97 instances. Also, i get rid of **profile_yn**, **profile_yn:confidence** and **profile_yn_gold** as they are not useful anymore."
      ]
    },
    {
      "metadata": {
        "id": "R613ziF2kTU-",
        "colab_type": "code",
        "colab": {}
      },
      "cell_type": "code",
      "source": [
        "drop_items_idx = data[data['profile_yn'] == 'no'].index\n",
        "\n",
        "data.drop (index = drop_items_idx, inplace = True)\n",
        "\n",
        "data['gender'].value_counts()\n",
        "\n",
        "data.drop (columns = ['profile_yn','profile_yn:confidence','profile_yn_gold'], inplace = True)"
      ],
      "execution_count": 0,
      "outputs": []
    },
    {
      "metadata": {
        "id": "CymDtYtJktKQ",
        "colab_type": "code",
        "outputId": "25ef779f-bd90-4eb5-9771-586ae1bdb826",
        "colab": {
          "base_uri": "https://localhost:8080/",
          "height": 435
        }
      },
      "cell_type": "code",
      "source": [
        "# Double check the data \n",
        "print (data['gender'].value_counts())\n",
        "\n",
        "print ('---------------------------')\n",
        "data.info()"
      ],
      "execution_count": 0,
      "outputs": [
        {
          "output_type": "stream",
          "text": [
            "female    6700\n",
            "male      6194\n",
            "brand     5942\n",
            "Name: gender, dtype: int64\n",
            "---------------------------\n",
            "<class 'pandas.core.frame.DataFrame'>\n",
            "Int64Index: 18836 entries, 0 to 20049\n",
            "Data columns (total 13 columns):\n",
            "_golden               18836 non-null bool\n",
            "_unit_state           18836 non-null object\n",
            "_trusted_judgments    18836 non-null int64\n",
            "gender                18836 non-null object\n",
            "gender:confidence     18836 non-null float64\n",
            "description           15522 non-null object\n",
            "fav_number            18836 non-null int64\n",
            "gender_gold           50 non-null object\n",
            "link_color            18836 non-null object\n",
            "name                  18836 non-null object\n",
            "retweet_count         18836 non-null int64\n",
            "sidebar_color         18836 non-null object\n",
            "text                  18836 non-null object\n",
            "dtypes: bool(1), float64(1), int64(3), object(8)\n",
            "memory usage: 1.9+ MB\n"
          ],
          "name": "stdout"
        }
      ]
    },
    {
      "metadata": {
        "id": "AKzzhOS8W4Vg",
        "colab_type": "text"
      },
      "cell_type": "markdown",
      "source": [
        "### Low-confidence gender (gender:confidence)\n",
        "\n",
        "I decide to keep only 100% confidence of labeling Gender and get rid of those < 100% confidence."
      ]
    },
    {
      "metadata": {
        "id": "FOrXygMBluHH",
        "colab_type": "code",
        "outputId": "6fa1ad6c-78cc-4e27-a852-ea281f6ff3fb",
        "colab": {
          "base_uri": "https://localhost:8080/",
          "height": 53
        }
      },
      "cell_type": "code",
      "source": [
        "print ('Full data items: ', data.shape)\n",
        "print ('Data with label-confidence < 100%: ', data[data['gender:confidence'] < 1].shape)"
      ],
      "execution_count": 0,
      "outputs": [
        {
          "output_type": "stream",
          "text": [
            "Full data items:  (18836, 13)\n",
            "Data with label-confidence < 100%:  (5032, 13)\n"
          ],
          "name": "stdout"
        }
      ]
    },
    {
      "metadata": {
        "id": "eL4kwl74W_3s",
        "colab_type": "text"
      },
      "cell_type": "markdown",
      "source": [
        "Here, i can observe that approximately **26.7%** (5032/18836) of labeled instances were lower 100% of confidence\n",
        "\n",
        "Then, i get rid of those instances and the feature **gender:confidence** as it is now useful anymore."
      ]
    },
    {
      "metadata": {
        "id": "FGcp4G5tXpD0",
        "colab_type": "code",
        "outputId": "dc73a071-dc48-4bcd-cdc0-f28b0b4a1e01",
        "colab": {
          "base_uri": "https://localhost:8080/",
          "height": 53
        }
      },
      "cell_type": "code",
      "source": [
        "drop_items_idx = data[data['gender:confidence'] < 1].index\n",
        "\n",
        "data.drop (index = drop_items_idx, inplace = True)\n",
        "\n",
        "print (data['gender:confidence'].value_counts())\n",
        "\n",
        "data.drop (columns = ['gender:confidence'], inplace = True)"
      ],
      "execution_count": 0,
      "outputs": [
        {
          "output_type": "stream",
          "text": [
            "1.0    13804\n",
            "Name: gender:confidence, dtype: int64\n"
          ],
          "name": "stdout"
        }
      ]
    },
    {
      "metadata": {
        "id": "o4Y4CaagXqt3",
        "colab_type": "text"
      },
      "cell_type": "markdown",
      "source": [
        "### Get rid of remaining useless features"
      ]
    },
    {
      "metadata": {
        "id": "-IQ7MCx-oXy4",
        "colab_type": "code",
        "outputId": "1bd285d4-6888-4c0b-e314-c38e0d3af17e",
        "colab": {
          "base_uri": "https://localhost:8080/",
          "height": 362
        }
      },
      "cell_type": "code",
      "source": [
        "data.drop (columns = ['_golden','_unit_state','_trusted_judgments','gender_gold'], inplace = True)\n",
        "\n",
        "# Double check the data \n",
        "print (data['gender'].value_counts())\n",
        "\n",
        "print ('---------------------------')\n",
        "data.info()"
      ],
      "execution_count": 0,
      "outputs": [
        {
          "output_type": "stream",
          "text": [
            "female    6700\n",
            "male      6194\n",
            "brand     5942\n",
            "Name: gender, dtype: int64\n",
            "---------------------------\n",
            "<class 'pandas.core.frame.DataFrame'>\n",
            "Int64Index: 18836 entries, 0 to 20049\n",
            "Data columns (total 9 columns):\n",
            "gender               18836 non-null object\n",
            "gender:confidence    18836 non-null float64\n",
            "description          15522 non-null object\n",
            "fav_number           18836 non-null int64\n",
            "link_color           18836 non-null object\n",
            "name                 18836 non-null object\n",
            "retweet_count        18836 non-null int64\n",
            "sidebar_color        18836 non-null object\n",
            "text                 18836 non-null object\n",
            "dtypes: float64(1), int64(2), object(6)\n",
            "memory usage: 1.4+ MB\n"
          ],
          "name": "stdout"
        }
      ]
    },
    {
      "metadata": {
        "id": "RXvLHVu7X2uu",
        "colab_type": "text"
      },
      "cell_type": "markdown",
      "source": [
        "## Manipulate Text data"
      ]
    },
    {
      "metadata": {
        "id": "cwQ0Rz0fX3yC",
        "colab_type": "text"
      },
      "cell_type": "markdown",
      "source": [
        "### Removing stop-words in Twits\n",
        "\n",
        "First we need to take a glance at the most common words"
      ]
    },
    {
      "metadata": {
        "id": "ZlvSGD02pcHd",
        "colab_type": "code",
        "outputId": "1e311a31-0ecb-45fd-c887-af55187cb13e",
        "colab": {
          "base_uri": "https://localhost:8080/",
          "height": 380
        }
      },
      "cell_type": "code",
      "source": [
        "from collections import Counter\n",
        "\n",
        "twit_vocab = Counter()\n",
        "for twit in data['text']:\n",
        "    for word in twit.split(' '):\n",
        "        twit_vocab[word.lower()] += 1\n",
        "        \n",
        "#words = [word.lower() for word in words]\n",
        "        \n",
        "twit_vocab.most_common(20)"
      ],
      "execution_count": 0,
      "outputs": [
        {
          "output_type": "execute_result",
          "data": {
            "text/plain": [
              "[('the', 14480),\n",
              " ('and', 11445),\n",
              " ('to', 5677),\n",
              " ('i', 4991),\n",
              " ('a', 4322),\n",
              " ('of', 3880),\n",
              " ('you', 3334),\n",
              " ('in', 3228),\n",
              " ('for', 2986),\n",
              " ('is', 2741),\n",
              " ('weather', 2304),\n",
              " ('on', 2201),\n",
              " ('my', 2064),\n",
              " ('get', 1999),\n",
              " ('it', 1894),\n",
              " ('from', 1861),\n",
              " ('', 1680),\n",
              " ('with', 1602),\n",
              " ('that', 1534),\n",
              " ('me', 1422)]"
            ]
          },
          "metadata": {
            "tags": []
          },
          "execution_count": 26
        }
      ]
    },
    {
      "metadata": {
        "id": "vf5jG8XDYBNm",
        "colab_type": "text"
      },
      "cell_type": "markdown",
      "source": [
        "As you can see, the most common words are meaningless in terms of sentiment: _I, to, the, and..._ . They're basically noise that can most probably be eliminated. These kind of words are called **stop words**, and it is a common practice to remove them when doing text analysis."
      ]
    },
    {
      "metadata": {
        "id": "zvk9_lnbp_uW",
        "colab_type": "code",
        "outputId": "c5e0fcb2-927e-43cd-c9fc-2cf4f256ad5d",
        "colab": {
          "base_uri": "https://localhost:8080/",
          "height": 72
        }
      },
      "cell_type": "code",
      "source": [
        "import nltk\n",
        "nltk.download('stopwords')"
      ],
      "execution_count": 0,
      "outputs": [
        {
          "output_type": "stream",
          "text": [
            "[nltk_data] Downloading package stopwords to /root/nltk_data...\n",
            "[nltk_data]   Unzipping corpora/stopwords.zip.\n"
          ],
          "name": "stdout"
        },
        {
          "output_type": "execute_result",
          "data": {
            "text/plain": [
              "True"
            ]
          },
          "metadata": {
            "tags": []
          },
          "execution_count": 27
        }
      ]
    },
    {
      "metadata": {
        "id": "SGop-MCSqIuf",
        "colab_type": "code",
        "outputId": "9995f969-c02f-41c5-f33b-cda756394a82",
        "colab": {
          "base_uri": "https://localhost:8080/",
          "height": 380
        }
      },
      "cell_type": "code",
      "source": [
        "from nltk.corpus import stopwords\n",
        "stop = stopwords.words('english')\n",
        "\n",
        "twit_vocab_reduced = Counter()\n",
        "for w, c in twit_vocab.items():\n",
        "    if not w in stop:\n",
        "        twit_vocab_reduced[w]=c\n",
        "\n",
        "twit_vocab_reduced.most_common(20)"
      ],
      "execution_count": 0,
      "outputs": [
        {
          "output_type": "execute_result",
          "data": {
            "text/plain": [
              "[('weather', 2304),\n",
              " ('get', 1999),\n",
              " ('', 1680),\n",
              " ('updates', 1150),\n",
              " ('channel.', 1141),\n",
              " ('-', 997),\n",
              " ('like', 907),\n",
              " (\"i'm\", 901),\n",
              " ('one', 675),\n",
              " ('new', 640),\n",
              " ('love', 613),\n",
              " ('go', 505),\n",
              " ('people', 478),\n",
              " ('&amp;', 460),\n",
              " ('time', 446),\n",
              " ('see', 427),\n",
              " ('know', 422),\n",
              " ('best', 419),\n",
              " ('got', 397),\n",
              " ('want', 387)]"
            ]
          },
          "metadata": {
            "tags": []
          },
          "execution_count": 28
        }
      ]
    },
    {
      "metadata": {
        "id": "Y281-_piYGH2",
        "colab_type": "text"
      },
      "cell_type": "markdown",
      "source": [
        "### Removing special characters and \"trash\"\n",
        "\n",
        "We still se a very uneaven distribution. If you look closer, you'll see that we're also taking into consideration punctuation signs ('-', ',', etc) and other html tags like `&amp`. We can definitely remove them for the sentiment analysis, but we will try to keep the emoticons, since those _do_ have a sentiment load:"
      ]
    },
    {
      "metadata": {
        "id": "OcL4jBOrrGgb",
        "colab_type": "code",
        "outputId": "498904fd-2531-409c-cf63-b53b724bdc24",
        "colab": {
          "base_uri": "https://localhost:8080/",
          "height": 35
        }
      },
      "cell_type": "code",
      "source": [
        "import re\n",
        "\n",
        "def preprocessor(text):\n",
        "    \"\"\" Return a cleaned version of text\n",
        "    \"\"\"\n",
        "    # Remove HTML markup\n",
        "    text = re.sub('<[^>]*>', '', text)\n",
        "    # Save emoticons for later appending\n",
        "    emoticons = re.findall('(?::|;|=)(?:-)?(?:\\)|\\(|D|P)', text)\n",
        "    # Remove any non-word character and append the emoticons,\n",
        "    # removing the nose character for standarization. Convert to lower case\n",
        "    text = (re.sub('[\\W]+', ' ', text.lower()) + ' ' + ' '.join(emoticons).replace('-', ''))\n",
        "    \n",
        "    return text\n",
        "\n",
        "print(preprocessor('This!!@ twit :) is <b>nice</b>'))"
      ],
      "execution_count": 0,
      "outputs": [
        {
          "output_type": "stream",
          "text": [
            "this twit is nice :)\n"
          ],
          "name": "stdout"
        }
      ]
    },
    {
      "metadata": {
        "id": "R7wjxYitYWWG",
        "colab_type": "text"
      },
      "cell_type": "markdown",
      "source": [
        "### Lemmatization"
      ]
    },
    {
      "metadata": {
        "id": "DLpakCHAYX-k",
        "colab_type": "text"
      },
      "cell_type": "markdown",
      "source": [
        "We are almost ready! There is another trick we can use to reduce our vocabulary and consolidate words. If you think about it, words like: love, loving, etc. _Could_ express the same positivity. If that was the case, we would be  having two words in our vocabulary when we could have only one: lov. This process of reducing a word to its root is called **stemming**. An alternative way is called **Lemmatization**.\n",
        "\n",
        "A popular stemming algorithm for English is **Porter** algorithm.\n",
        "\n",
        "We also need a _tokenizer_ to break down our twits in individual words. We will implement two tokenizers, a regular one and one that does steaming:"
      ]
    },
    {
      "metadata": {
        "id": "vPuNpuStxigD",
        "colab_type": "code",
        "outputId": "1eb2f680-c828-46b3-9747-3651a990ea27",
        "colab": {
          "base_uri": "https://localhost:8080/",
          "height": 53
        }
      },
      "cell_type": "code",
      "source": [
        "from nltk.stem import PorterStemmer\n",
        "\n",
        "porter = PorterStemmer()\n",
        "\n",
        "def tokenizer(text):\n",
        "    return text.split()\n",
        "\n",
        "def tokenizer_porter(text):\n",
        "    return [porter.stem(word) for word in text.split()]\n",
        "\n",
        "print(tokenizer('Hi there, I am loving this, like with a lot of love'))\n",
        "print(tokenizer_porter('Hi there, I am loving this, like with a lot of love'))"
      ],
      "execution_count": 0,
      "outputs": [
        {
          "output_type": "stream",
          "text": [
            "['Hi', 'there,', 'I', 'am', 'loving', 'this,', 'like', 'with', 'a', 'lot', 'of', 'love']\n",
            "['Hi', 'there,', 'I', 'am', 'love', 'this,', 'like', 'with', 'a', 'lot', 'of', 'love']\n"
          ],
          "name": "stdout"
        }
      ]
    },
    {
      "metadata": {
        "id": "deb6DHEaYfI9",
        "colab_type": "text"
      },
      "cell_type": "markdown",
      "source": [
        "## Visualize Data\n",
        "\n",
        "Among text data, i want to find out if other features can give me useful information or show some special characteristics."
      ]
    },
    {
      "metadata": {
        "id": "bMR89P4uYgXZ",
        "colab_type": "text"
      },
      "cell_type": "markdown",
      "source": [
        "### Create a countplot to visualize the amount of each label"
      ]
    },
    {
      "metadata": {
        "id": "0aozhhr7x6w0",
        "colab_type": "code",
        "outputId": "d2e44eef-6f00-4017-e44d-928bd9756304",
        "colab": {
          "base_uri": "https://localhost:8080/",
          "height": 337
        }
      },
      "cell_type": "code",
      "source": [
        "sns.countplot(data['gender'],label=\"Gender\")"
      ],
      "execution_count": 0,
      "outputs": [
        {
          "output_type": "stream",
          "text": [
            "/usr/local/lib/python3.6/dist-packages/seaborn/categorical.py:1428: FutureWarning: remove_na is deprecated and is a private function. Do not use.\n",
            "  stat_data = remove_na(group_data)\n"
          ],
          "name": "stderr"
        },
        {
          "output_type": "execute_result",
          "data": {
            "text/plain": [
              "<matplotlib.axes._subplots.AxesSubplot at 0x7ff78a4b4b00>"
            ]
          },
          "metadata": {
            "tags": []
          },
          "execution_count": 31
        },
        {
          "output_type": "display_data",
          "data": {
            "image/png": "[encoded data removed]",
            "text/plain": [
              "<Figure size 432x288 with 1 Axes>"
            ]
          },
          "metadata": {
            "tags": []
          }
        }
      ]
    },
    {
      "metadata": {
        "id": "w0gRVhfoYytr",
        "colab_type": "text"
      },
      "cell_type": "markdown",
      "source": [
        "### Create a bar plot to visualize the amount of *favorites* and *retweets*"
      ]
    },
    {
      "metadata": {
        "id": "nzZhO7lSHQbc",
        "colab_type": "code",
        "outputId": "f45769e1-6e84-48e1-8d44-fd4fa9186921",
        "colab": {
          "base_uri": "https://localhost:8080/",
          "height": 334
        }
      },
      "cell_type": "code",
      "source": [
        "sns.barplot (x = 'gender', y = 'fav_number',data = data)"
      ],
      "execution_count": 0,
      "outputs": [
        {
          "output_type": "stream",
          "text": [
            "/usr/local/lib/python3.6/dist-packages/seaborn/categorical.py:1428: FutureWarning: remove_na is deprecated and is a private function. Do not use.\n",
            "  stat_data = remove_na(group_data)\n"
          ],
          "name": "stderr"
        },
        {
          "output_type": "execute_result",
          "data": {
            "text/plain": [
              "<matplotlib.axes._subplots.AxesSubplot at 0x7ff78a4569b0>"
            ]
          },
          "metadata": {
            "tags": []
          },
          "execution_count": 32
        },
        {
          "output_type": "display_data",
          "data": {
            "image/png": "[encoded data removed]",
            "text/plain": [
              "<Figure size 432x288 with 1 Axes>"
            ]
          },
          "metadata": {
            "tags": []
          }
        }
      ]
    },
    {
      "metadata": {
        "id": "srXScw-UHV7C",
        "colab_type": "code",
        "outputId": "4b4c0781-4b1c-4f32-a04f-b2ee93051041",
        "colab": {
          "base_uri": "https://localhost:8080/",
          "height": 334
        }
      },
      "cell_type": "code",
      "source": [
        "sns.barplot (x = 'gender', y = 'retweet_count',data = data)"
      ],
      "execution_count": 0,
      "outputs": [
        {
          "output_type": "stream",
          "text": [
            "/usr/local/lib/python3.6/dist-packages/seaborn/categorical.py:1428: FutureWarning: remove_na is deprecated and is a private function. Do not use.\n",
            "  stat_data = remove_na(group_data)\n"
          ],
          "name": "stderr"
        },
        {
          "output_type": "execute_result",
          "data": {
            "text/plain": [
              "<matplotlib.axes._subplots.AxesSubplot at 0x7ff788384cc0>"
            ]
          },
          "metadata": {
            "tags": []
          },
          "execution_count": 33
        },
        {
          "output_type": "display_data",
          "data": {
            "image/png": "[encoded data removed]",
            "text/plain": [
              "<Figure size 432x288 with 1 Axes>"
            ]
          },
          "metadata": {
            "tags": []
          }
        }
      ]
    },
    {
      "metadata": {
        "id": "aimz2GFeY6rb",
        "colab_type": "text"
      },
      "cell_type": "markdown",
      "source": [
        "### Visualize Colors attribute"
      ]
    },
    {
      "metadata": {
        "id": "vMDjfspJHeYx",
        "colab_type": "code",
        "colab": {}
      },
      "cell_type": "code",
      "source": [
        "# male_top_sidebar_color = data[data['gender'] == 'male']['sidebar_color'].value_counts().head(7)\n",
        "# male_top_sidebar_color_idx = male_top_sidebar_color.index\n",
        "# male_top_color = male_top_sidebar_color_idx.values\n",
        "\n",
        "# male_top_color[2] = '000000'\n",
        "# print (male_top_color)\n",
        "# l = lambda x: '#'+x\n",
        "\n",
        "# sns.set_style(\"darkgrid\", {\"axes.facecolor\": \"#F5ABB5\"})\n",
        "# sns.barplot (x = male_top_sidebar_color, y = male_top_color, palette=list(map(l, male_top_color)))"
      ],
      "execution_count": 0,
      "outputs": []
    },
    {
      "metadata": {
        "id": "TP0_FcufCK7r",
        "colab_type": "code",
        "outputId": "ab52bfd6-4af8-4263-99d3-440385feb13e",
        "colab": {
          "base_uri": "https://localhost:8080/",
          "height": 352
        }
      },
      "cell_type": "code",
      "source": [
        "female_top_sidebar_color = data[data['gender'] == 'female']['sidebar_color'].value_counts().head(7)\n",
        "female_top_sidebar_color_idx = female_top_sidebar_color.index\n",
        "female_top_color = female_top_sidebar_color_idx.values\n",
        "\n",
        "female_top_color[2] = '000000'\n",
        "print (female_top_color)\n",
        "\n",
        "l = lambda x: '#'+x\n",
        "\n",
        "sns.set_style(\"darkgrid\", {\"axes.facecolor\": \"#F5ABB5\"})\n",
        "sns.barplot (x = female_top_sidebar_color, y = female_top_color, palette=list(map(l, female_top_color)))"
      ],
      "execution_count": 0,
      "outputs": [
        {
          "output_type": "stream",
          "text": [
            "['C0DEED' 'FFFFFF' '000000' 'EEEEEE' '65B0DA' '5ED4DC' '181A1E']\n"
          ],
          "name": "stdout"
        },
        {
          "output_type": "stream",
          "text": [
            "/usr/local/lib/python3.6/dist-packages/seaborn/categorical.py:1428: FutureWarning: remove_na is deprecated and is a private function. Do not use.\n",
            "  stat_data = remove_na(group_data)\n"
          ],
          "name": "stderr"
        },
        {
          "output_type": "execute_result",
          "data": {
            "text/plain": [
              "<matplotlib.axes._subplots.AxesSubplot at 0x7ff7882f2668>"
            ]
          },
          "metadata": {
            "tags": []
          },
          "execution_count": 35
        },
        {
          "output_type": "display_data",
          "data": {
            "image/png": "[encoded data removed]",
            "text/plain": [
              "<Figure size 432x288 with 1 Axes>"
            ]
          },
          "metadata": {
            "tags": []
          }
        }
      ]
    },
    {
      "metadata": {
        "id": "LYdVqbpWZB36",
        "colab_type": "text"
      },
      "cell_type": "markdown",
      "source": [
        "For **sidebar color**, the top 3 colors of both male and female are the same (this seems to be these colors are default theme color of Twitter). It is shown that the number of 2nd and 3rd color of female is larger but this can be explained by the fact that the number of female users are more than male.\n",
        "\n",
        "So, at this point, sidebar_color may not give me any useful information for classifying gender."
      ]
    },
    {
      "metadata": {
        "id": "Xm2nBPHiE415",
        "colab_type": "code",
        "colab": {}
      },
      "cell_type": "code",
      "source": [
        "# male_top_link_color = data[data['gender'] == 'male']['link_color'].value_counts().head(7)\n",
        "# male_top_link_color_idx = male_top_link_color.index\n",
        "# male_top_color = male_top_link_color_idx.values\n",
        "# male_top_color[1] = '009999'\n",
        "# male_top_color[5] = '000000'\n",
        "# print(male_top_color)\n",
        "\n",
        "# l = lambda x: '#'+x\n",
        "\n",
        "# sns.set_style(\"whitegrid\", {\"axes.facecolor\": \"white\"})\n",
        "# sns.barplot (x = male_top_link_color, y = male_top_link_color_idx, palette=list(map(l, male_top_color)))"
      ],
      "execution_count": 0,
      "outputs": []
    },
    {
      "metadata": {
        "id": "UWHdJuujFFqN",
        "colab_type": "code",
        "outputId": "d66e556d-76b4-4205-d565-c5e314a25b11",
        "colab": {
          "base_uri": "https://localhost:8080/",
          "height": 334
        }
      },
      "cell_type": "code",
      "source": [
        "female_top_link_color = data[data['gender'] == 'female']['link_color'].value_counts().head(7)\n",
        "female_top_link_color_idx = female_top_link_color.index\n",
        "female_top_color = female_top_link_color_idx.values\n",
        "\n",
        "l = lambda x: '#'+x\n",
        "\n",
        "sns.set_style(\"whitegrid\", {\"axes.facecolor\": \"white\"})\n",
        "sns.barplot (x = female_top_link_color, y = female_top_link_color_idx, palette=list(map(l, female_top_color)))"
      ],
      "execution_count": 0,
      "outputs": [
        {
          "output_type": "stream",
          "text": [
            "/usr/local/lib/python3.6/dist-packages/seaborn/categorical.py:1428: FutureWarning: remove_na is deprecated and is a private function. Do not use.\n",
            "  stat_data = remove_na(group_data)\n"
          ],
          "name": "stderr"
        },
        {
          "output_type": "execute_result",
          "data": {
            "text/plain": [
              "<matplotlib.axes._subplots.AxesSubplot at 0x7ff788311780>"
            ]
          },
          "metadata": {
            "tags": []
          },
          "execution_count": 37
        },
        {
          "output_type": "display_data",
          "data": {
            "image/png": "[encoded data removed]",
            "text/plain": [
              "<Figure size 432x288 with 1 Axes>"
            ]
          },
          "metadata": {
            "tags": []
          }
        }
      ]
    },
    {
      "metadata": {
        "id": "j11tQMfsGO1v",
        "colab_type": "text"
      },
      "cell_type": "markdown",
      "source": [
        "#**Training classification models with Tweet-text only**"
      ]
    },
    {
      "metadata": {
        "id": "x5dGceEDJ0dX",
        "colab_type": "text"
      },
      "cell_type": "markdown",
      "source": [
        "### How relevant are words? Term frequency-inverse document frequency\n",
        "\n",
        "We could use these raw term frequencies to score the words in our algorithm. There is a problem though: If a word is very frequent in _all_ documents, then it probably doesn't carry a lot of information. In order to tacke this problem we can use **term frequency-inverse document frequency**, which will reduce the score the more frequent the word is accross all twits. It is calculated like this:\n",
        "\n",
        "\\begin{equation*}\n",
        "tf-idf(t,d) = tf(t,d) ~ idf(t,d)\n",
        "\\end{equation*}\n",
        "\n",
        "_tf(t,d)_ is the raw term frequency descrived above. _idf(t,d)_ is the inverse document frequency, than can be calculated as follows:\n",
        "\n",
        "\\begin{equation*}\n",
        "\\log \\frac{n_d}{1+df\\left(d,t\\right)}\n",
        "\\end{equation*}\n",
        "\n",
        "where `n` is the total number of documents (number of _twits_ in this problem) and _df(t,d)_ is the number of documents where the term `t` appears. \n",
        "\n",
        "The `1` addition in the denominator is just to avoid zero term for terms that appear in all documents. Ans the `log` ensures that low frequency term don't get too much weight.\n",
        "\n",
        "The IDF (inverse document frequency) of a word is the measure of how significant that term is in the whole corpus (the whole collection of _twits_ in this problem).\n",
        "\n",
        "The higher the TF-IDF weight value, the rarer the term. The smaller the weight, the more common the term.\n",
        "\n",
        "Fortunately for us `scikit-learn` does all those calculations for us:"
      ]
    },
    {
      "metadata": {
        "id": "2VqKUrQCG4MP",
        "colab_type": "code",
        "outputId": "9716f0d1-adce-4da5-d683-412a9d7978fd",
        "colab": {
          "base_uri": "https://localhost:8080/",
          "height": 126
        }
      },
      "cell_type": "code",
      "source": [
        "# Firstly, convert categorical labels into numerical ones\n",
        "# Function for encoding categories\n",
        "from sklearn.preprocessing import LabelEncoder\n",
        "\n",
        "encoder = LabelEncoder()\n",
        "y = encoder.fit_transform(data['gender'])\n",
        "\n",
        "\n",
        "# split the dataset in train and test\n",
        "X = data['text']\n",
        "X_train, X_test, y_train, y_test = train_test_split(X, y, test_size=0.3, random_state=0, stratify=y)\n",
        "#In the code line above, stratify will create a train set with the same class balance than the original set\n",
        "\n",
        "X_train.head()"
      ],
      "execution_count": 0,
      "outputs": [
        {
          "output_type": "execute_result",
          "data": {
            "text/plain": [
              "8325     @mrsundaymovies @wikipediabrown Have you guys ...\n",
              "2251     @wayne__215 lol it might be too late by then ....\n",
              "13166    All ready to meet @Joe_Sugg @meghansuggx and @...\n",
              "9630     Adorbs!!\\nI just need a better eay to tie it a...\n",
              "8504     Millennials are starting to buy homes, and the...\n",
              "Name: text, dtype: object"
            ]
          },
          "metadata": {
            "tags": []
          },
          "execution_count": 38
        }
      ]
    },
    {
      "metadata": {
        "id": "Oz6MrAcaHoaq",
        "colab_type": "text"
      },
      "cell_type": "markdown",
      "source": [
        "###solve with Logistic Regression Model"
      ]
    },
    {
      "metadata": {
        "id": "9zHwmfBcHciE",
        "colab_type": "code",
        "outputId": "867bde6e-bea5-483c-f9db-5e5b4fc6805f",
        "colab": {
          "base_uri": "https://localhost:8080/",
          "height": 364
        }
      },
      "cell_type": "code",
      "source": [
        "from sklearn.linear_model import LogisticRegression\n",
        "from sklearn.feature_extraction.text import TfidfVectorizer\n",
        "from sklearn.pipeline import Pipeline\n",
        "from sklearn.metrics import accuracy_score\n",
        "from sklearn.metrics import confusion_matrix\n",
        "from sklearn.metrics import classification_report\n",
        "\n",
        "tfidf = TfidfVectorizer(lowercase=False,\n",
        "                        tokenizer=tokenizer_porter,\n",
        "                        preprocessor=preprocessor)\n",
        "clf = Pipeline([('vect', tfidf),\n",
        "                ('clf', LogisticRegression(multi_class='ovr', random_state=0))])\n",
        "\n",
        "clf.fit(X_train, y_train)\n",
        "\n",
        "predictions = clf.predict(X_test)\n",
        "print('Accuracy:',accuracy_score(y_test,predictions))\n",
        "print('Confusion matrix:\\n',confusion_matrix(y_test,predictions))\n",
        "print('Classification report:\\n',classification_report(y_test,predictions))"
      ],
      "execution_count": 0,
      "outputs": [
        {
          "output_type": "stream",
          "text": [
            "/usr/local/lib/python3.6/dist-packages/sklearn/linear_model/logistic.py:433: FutureWarning: Default solver will be changed to 'lbfgs' in 0.22. Specify a solver to silence this warning.\n",
            "  FutureWarning)\n"
          ],
          "name": "stderr"
        },
        {
          "output_type": "stream",
          "text": [
            "Accuracy: 0.5742346487347372\n",
            "Confusion matrix:\n",
            " [[1234  246  303]\n",
            " [ 301 1229  480]\n",
            " [ 394  682  782]]\n",
            "Classification report:\n",
            "               precision    recall  f1-score   support\n",
            "\n",
            "           0       0.64      0.69      0.66      1783\n",
            "           1       0.57      0.61      0.59      2010\n",
            "           2       0.50      0.42      0.46      1858\n",
            "\n",
            "   micro avg       0.57      0.57      0.57      5651\n",
            "   macro avg       0.57      0.57      0.57      5651\n",
            "weighted avg       0.57      0.57      0.57      5651\n",
            "\n"
          ],
          "name": "stdout"
        }
      ]
    },
    {
      "metadata": {
        "id": "eBjatJISKEpO",
        "colab_type": "text"
      },
      "cell_type": "markdown",
      "source": [
        "###solve with Random Forest"
      ]
    },
    {
      "metadata": {
        "id": "ZAn2HKZ6KHdl",
        "colab_type": "code",
        "outputId": "5d89fed0-c158-401d-8e27-36205e9c33f9",
        "colab": {
          "base_uri": "https://localhost:8080/",
          "height": 283
        }
      },
      "cell_type": "code",
      "source": [
        "from sklearn.ensemble import RandomForestClassifier\n",
        "# Plot the correlation between n_estimators and accuracy\n",
        "\n",
        "# X_train_sample = X_train.head(5000) # this is series\n",
        "# y_train_sample = y_train[:5000] # this is array\n",
        "\n",
        "# print (X_train_sample.shape)\n",
        "# print (y_train_sample.shape)\n",
        "\n",
        "n = range (1,100,10) #step 10\n",
        "\n",
        "results = []\n",
        "for i in n:\n",
        "    clf = Pipeline([('vect', tfidf),\n",
        "                ('clf', RandomForestClassifier(n_estimators = i, random_state=0))])\n",
        "    clf.fit(X_train, y_train)\n",
        "    predictions = clf.predict(X_test)\n",
        "    results.append(accuracy_score(y_test, predictions))\n",
        "plt.grid()\n",
        "plt.scatter(n, results)"
      ],
      "execution_count": 0,
      "outputs": [
        {
          "output_type": "execute_result",
          "data": {
            "text/plain": [
              "<matplotlib.collections.PathCollection at 0x7ff787a3cd30>"
            ]
          },
          "metadata": {
            "tags": []
          },
          "execution_count": 40
        },
        {
          "output_type": "display_data",
          "data": {
            "image/png": "[encoded data removed]",
            "text/plain": [
              "<Figure size 432x288 with 1 Axes>"
            ]
          },
          "metadata": {
            "tags": []
          }
        }
      ]
    },
    {
      "metadata": {
        "id": "y0OeCnCtKYU7",
        "colab_type": "code",
        "outputId": "467ef35b-a3f0-4bb4-96dc-149ed79a8678",
        "colab": {
          "base_uri": "https://localhost:8080/",
          "height": 308
        }
      },
      "cell_type": "code",
      "source": [
        "tfidf = TfidfVectorizer(lowercase=False,\n",
        "                        tokenizer=tokenizer_porter,\n",
        "                        preprocessor=preprocessor)\n",
        "clf = Pipeline([('vect', tfidf),\n",
        "                ('clf', RandomForestClassifier(n_estimators = 40, random_state=0))])\n",
        "\n",
        "clf.fit(X_train, y_train)\n",
        "\n",
        "predictions = clf.predict(X_test)\n",
        "print('Accuracy:',accuracy_score(y_test,predictions))\n",
        "print('Confusion matrix:\\n',confusion_matrix(y_test,predictions))\n",
        "print('Classification report:\\n',classification_report(y_test,predictions))"
      ],
      "execution_count": 0,
      "outputs": [
        {
          "output_type": "stream",
          "text": [
            "Accuracy: 0.5514068306494426\n",
            "Confusion matrix:\n",
            " [[1061  414  308]\n",
            " [ 214 1327  469]\n",
            " [ 260  870  728]]\n",
            "Classification report:\n",
            "               precision    recall  f1-score   support\n",
            "\n",
            "           0       0.69      0.60      0.64      1783\n",
            "           1       0.51      0.66      0.57      2010\n",
            "           2       0.48      0.39      0.43      1858\n",
            "\n",
            "   micro avg       0.55      0.55      0.55      5651\n",
            "   macro avg       0.56      0.55      0.55      5651\n",
            "weighted avg       0.56      0.55      0.55      5651\n",
            "\n"
          ],
          "name": "stdout"
        }
      ]
    },
    {
      "metadata": {
        "id": "8YNfCMJoKeKf",
        "colab_type": "text"
      },
      "cell_type": "markdown",
      "source": [
        "###solve with SVM"
      ]
    },
    {
      "metadata": {
        "id": "wQO7SE7yKfR-",
        "colab_type": "code",
        "outputId": "d0460f3c-0bd7-48db-bd5e-bef003af9b59",
        "colab": {
          "base_uri": "https://localhost:8080/",
          "height": 308
        }
      },
      "cell_type": "code",
      "source": [
        "# the SVM model\n",
        "from sklearn.svm import SVC\n",
        "\n",
        "tfidf = TfidfVectorizer(lowercase=False,\n",
        "                        tokenizer=tokenizer_porter,\n",
        "                        preprocessor=preprocessor)\n",
        "clf = Pipeline([('vect', tfidf),\n",
        "                ('clf', SVC(kernel = 'linear'))])\n",
        "clf.fit(X_train, y_train)\n",
        "\n",
        "predictions = clf.predict(X_test)\n",
        "print('Accuracy:',accuracy_score(y_test,predictions))\n",
        "print('Confusion matrix:\\n',confusion_matrix(y_test,predictions))\n",
        "print('Classification report:\\n',classification_report(y_test,predictions))"
      ],
      "execution_count": 0,
      "outputs": [
        {
          "output_type": "stream",
          "text": [
            "Accuracy: 0.5698106529817731\n",
            "Confusion matrix:\n",
            " [[1211  271  301]\n",
            " [ 288 1221  501]\n",
            " [ 377  693  788]]\n",
            "Classification report:\n",
            "               precision    recall  f1-score   support\n",
            "\n",
            "           0       0.65      0.68      0.66      1783\n",
            "           1       0.56      0.61      0.58      2010\n",
            "           2       0.50      0.42      0.46      1858\n",
            "\n",
            "   micro avg       0.57      0.57      0.57      5651\n",
            "   macro avg       0.57      0.57      0.57      5651\n",
            "weighted avg       0.57      0.57      0.57      5651\n",
            "\n"
          ],
          "name": "stdout"
        }
      ]
    },
    {
      "metadata": {
        "id": "pt8uPdtaK5zV",
        "colab_type": "text"
      },
      "cell_type": "markdown",
      "source": [
        "### Experimental Results\n",
        "\n",
        "Accuracy:\n",
        " - **Logistic Regression**: 57.42%  \n",
        " - **Random Forest**: 55.14%  \n",
        " - **SVM**: 56.98%  \n",
        " \n",
        "Winner: **Logistic Regression** model"
      ]
    },
    {
      "metadata": {
        "id": "Sa4BEksgZZG_",
        "colab_type": "text"
      },
      "cell_type": "markdown",
      "source": [
        "## Adding content of Description into Text "
      ]
    },
    {
      "metadata": {
        "id": "SWoGUU0QKjTC",
        "colab_type": "code",
        "outputId": "e3956eb7-4ef2-4fca-bc0a-de8544b7f62d",
        "colab": {
          "base_uri": "https://localhost:8080/",
          "height": 293
        }
      },
      "cell_type": "code",
      "source": [
        "data.head()"
      ],
      "execution_count": 0,
      "outputs": [
        {
          "output_type": "execute_result",
          "data": {
            "text/html": [
              "<div>\n",
              "<style scoped>\n",
              "    .dataframe tbody tr th:only-of-type {\n",
              "        vertical-align: middle;\n",
              "    }\n",
              "\n",
              "    .dataframe tbody tr th {\n",
              "        vertical-align: top;\n",
              "    }\n",
              "\n",
              "    .dataframe thead th {\n",
              "        text-align: right;\n",
              "    }\n",
              "</style>\n",
              "<table border=\"1\" class=\"dataframe\">\n",
              "  <thead>\n",
              "    <tr style=\"text-align: right;\">\n",
              "      <th></th>\n",
              "      <th>gender</th>\n",
              "      <th>gender:confidence</th>\n",
              "      <th>description</th>\n",
              "      <th>fav_number</th>\n",
              "      <th>link_color</th>\n",
              "      <th>name</th>\n",
              "      <th>retweet_count</th>\n",
              "      <th>sidebar_color</th>\n",
              "      <th>text</th>\n",
              "    </tr>\n",
              "  </thead>\n",
              "  <tbody>\n",
              "    <tr>\n",
              "      <th>0</th>\n",
              "      <td>male</td>\n",
              "      <td>1.0000</td>\n",
              "      <td>i sing my own rhythm.</td>\n",
              "      <td>0</td>\n",
              "      <td>08C2C2</td>\n",
              "      <td>sheezy0</td>\n",
              "      <td>0</td>\n",
              "      <td>FFFFFF</td>\n",
              "      <td>Robbie E Responds To Critics After Win Against...</td>\n",
              "    </tr>\n",
              "    <tr>\n",
              "      <th>1</th>\n",
              "      <td>male</td>\n",
              "      <td>1.0000</td>\n",
              "      <td>I'm the author of novels filled with family dr...</td>\n",
              "      <td>68</td>\n",
              "      <td>0084B4</td>\n",
              "      <td>DavdBurnett</td>\n",
              "      <td>0</td>\n",
              "      <td>C0DEED</td>\n",
              "      <td>ÛÏIt felt like they were my friends and I was...</td>\n",
              "    </tr>\n",
              "    <tr>\n",
              "      <th>2</th>\n",
              "      <td>male</td>\n",
              "      <td>0.6625</td>\n",
              "      <td>louis whining and squealing and all</td>\n",
              "      <td>7696</td>\n",
              "      <td>ABB8C2</td>\n",
              "      <td>lwtprettylaugh</td>\n",
              "      <td>1</td>\n",
              "      <td>C0DEED</td>\n",
              "      <td>i absolutely adore when louis starts the songs...</td>\n",
              "    </tr>\n",
              "    <tr>\n",
              "      <th>3</th>\n",
              "      <td>male</td>\n",
              "      <td>1.0000</td>\n",
              "      <td>Mobile guy.  49ers, Shazam, Google, Kleiner Pe...</td>\n",
              "      <td>202</td>\n",
              "      <td>0084B4</td>\n",
              "      <td>douggarland</td>\n",
              "      <td>0</td>\n",
              "      <td>C0DEED</td>\n",
              "      <td>Hi @JordanSpieth - Looking at the url - do you...</td>\n",
              "    </tr>\n",
              "    <tr>\n",
              "      <th>4</th>\n",
              "      <td>female</td>\n",
              "      <td>1.0000</td>\n",
              "      <td>Ricky Wilson The Best FRONTMAN/Kaiser Chiefs T...</td>\n",
              "      <td>37318</td>\n",
              "      <td>3B94D9</td>\n",
              "      <td>WilfordGemma</td>\n",
              "      <td>0</td>\n",
              "      <td>0</td>\n",
              "      <td>Watching Neighbours on Sky+ catching up with t...</td>\n",
              "    </tr>\n",
              "  </tbody>\n",
              "</table>\n",
              "</div>"
            ],
            "text/plain": [
              "   gender  gender:confidence  \\\n",
              "0    male             1.0000   \n",
              "1    male             1.0000   \n",
              "2    male             0.6625   \n",
              "3    male             1.0000   \n",
              "4  female             1.0000   \n",
              "\n",
              "                                         description  fav_number link_color  \\\n",
              "0                              i sing my own rhythm.           0     08C2C2   \n",
              "1  I'm the author of novels filled with family dr...          68     0084B4   \n",
              "2                louis whining and squealing and all        7696     ABB8C2   \n",
              "3  Mobile guy.  49ers, Shazam, Google, Kleiner Pe...         202     0084B4   \n",
              "4  Ricky Wilson The Best FRONTMAN/Kaiser Chiefs T...       37318     3B94D9   \n",
              "\n",
              "             name  retweet_count sidebar_color  \\\n",
              "0         sheezy0              0        FFFFFF   \n",
              "1     DavdBurnett              0        C0DEED   \n",
              "2  lwtprettylaugh              1        C0DEED   \n",
              "3     douggarland              0        C0DEED   \n",
              "4    WilfordGemma              0             0   \n",
              "\n",
              "                                                text  \n",
              "0  Robbie E Responds To Critics After Win Against...  \n",
              "1  ÛÏIt felt like they were my friends and I was...  \n",
              "2  i absolutely adore when louis starts the songs...  \n",
              "3  Hi @JordanSpieth - Looking at the url - do you...  \n",
              "4  Watching Neighbours on Sky+ catching up with t...  "
            ]
          },
          "metadata": {
            "tags": []
          },
          "execution_count": 43
        }
      ]
    },
    {
      "metadata": {
        "id": "dCsGx8kLZfU7",
        "colab_type": "text"
      },
      "cell_type": "markdown",
      "source": [
        "### Concatenating 'description' to 'text'"
      ]
    },
    {
      "metadata": {
        "id": "rjFiq13ZLiAQ",
        "colab_type": "code",
        "outputId": "f4644a50-4bb6-4272-f0d4-3a4bbb7f2a34",
        "colab": {
          "base_uri": "https://localhost:8080/",
          "height": 53
        }
      },
      "cell_type": "code",
      "source": [
        "#Fill NaN with empty string\n",
        "data.fillna(\"\", inplace = True)\n",
        "\n",
        "# Concatenate text with description, add white space between. \n",
        "# By using Series helper functions Series.str()\n",
        "data['text_description'] = data['text'].str.cat(data['description'], sep=' ')\n",
        "\n",
        "data['text_description'].isnull().value_counts() # Check if any null values, True if there is at least one."
      ],
      "execution_count": 0,
      "outputs": [
        {
          "output_type": "execute_result",
          "data": {
            "text/plain": [
              "False    18836\n",
              "Name: text_description, dtype: int64"
            ]
          },
          "metadata": {
            "tags": []
          },
          "execution_count": 44
        }
      ]
    },
    {
      "metadata": {
        "id": "s1ETZVXvZlLd",
        "colab_type": "text"
      },
      "cell_type": "markdown",
      "source": [
        "### Re-create training dataset"
      ]
    },
    {
      "metadata": {
        "id": "n0peSCv-MJv3",
        "colab_type": "code",
        "outputId": "a1259384-4f50-4e42-9d15-957469389f5d",
        "colab": {
          "base_uri": "https://localhost:8080/",
          "height": 35
        }
      },
      "cell_type": "code",
      "source": [
        "# split the dataset in train and test\n",
        "X = data['text_description']\n",
        "X_train, X_test, y_train, y_test = train_test_split(X, y, test_size=0.3, random_state=0, stratify=y)\n",
        "#In the code line above, stratify will create a train set with the same class balance than the original set\n",
        "\n",
        "X_train.head()\n",
        "X_train.isnull().values.any() # Check if any null values, True if there is at least one."
      ],
      "execution_count": 0,
      "outputs": [
        {
          "output_type": "execute_result",
          "data": {
            "text/plain": [
              "False"
            ]
          },
          "metadata": {
            "tags": []
          },
          "execution_count": 45
        }
      ]
    },
    {
      "metadata": {
        "id": "vj9DnwI6MSgo",
        "colab_type": "text"
      },
      "cell_type": "markdown",
      "source": [
        "###solve with Logistic Regression"
      ]
    },
    {
      "metadata": {
        "id": "8YWUjzCEMTyT",
        "colab_type": "code",
        "outputId": "65ae62f9-4dca-4a32-c56d-0b3401eed28b",
        "colab": {
          "base_uri": "https://localhost:8080/",
          "height": 364
        }
      },
      "cell_type": "code",
      "source": [
        "from sklearn.linear_model import LogisticRegression\n",
        "\n",
        "tfidf = TfidfVectorizer(lowercase=False,\n",
        "                        tokenizer=tokenizer_porter,\n",
        "                        preprocessor=preprocessor)\n",
        "clf = Pipeline([('vect', tfidf),\n",
        "                ('clf', LogisticRegression(multi_class='ovr', random_state=0))])\n",
        "\n",
        "clf.fit(X_train, y_train)\n",
        "\n",
        "predictions = clf.predict(X_test)\n",
        "print('Accuracy:',accuracy_score(y_test,predictions))\n",
        "print('Confusion matrix:\\n',confusion_matrix(y_test,predictions))\n",
        "print('Classification report:\\n',classification_report(y_test,predictions))"
      ],
      "execution_count": 0,
      "outputs": [
        {
          "output_type": "stream",
          "text": [
            "/usr/local/lib/python3.6/dist-packages/sklearn/linear_model/logistic.py:433: FutureWarning: Default solver will be changed to 'lbfgs' in 0.22. Specify a solver to silence this warning.\n",
            "  FutureWarning)\n"
          ],
          "name": "stderr"
        },
        {
          "output_type": "stream",
          "text": [
            "Accuracy: 0.650858255176075\n",
            "Confusion matrix:\n",
            " [[1355  185  243]\n",
            " [ 238 1375  397]\n",
            " [ 292  618  948]]\n",
            "Classification report:\n",
            "               precision    recall  f1-score   support\n",
            "\n",
            "           0       0.72      0.76      0.74      1783\n",
            "           1       0.63      0.68      0.66      2010\n",
            "           2       0.60      0.51      0.55      1858\n",
            "\n",
            "   micro avg       0.65      0.65      0.65      5651\n",
            "   macro avg       0.65      0.65      0.65      5651\n",
            "weighted avg       0.65      0.65      0.65      5651\n",
            "\n"
          ],
          "name": "stdout"
        }
      ]
    },
    {
      "metadata": {
        "id": "jyqww_0kMbo0",
        "colab_type": "text"
      },
      "cell_type": "markdown",
      "source": [
        "###solve with Random Forest"
      ]
    },
    {
      "metadata": {
        "id": "YbNHi9BlMXOG",
        "colab_type": "code",
        "outputId": "4e87fd52-ffd3-41fd-e3d1-572b37a53cc8",
        "colab": {
          "base_uri": "https://localhost:8080/",
          "height": 283
        }
      },
      "cell_type": "code",
      "source": [
        "# Plot the correlation between n_estimators and accuracy\n",
        "\n",
        "# X_train_sample = X_train.head(5000) # this is series\n",
        "# y_train_sample = y_train[:5000] # this is array\n",
        "\n",
        "# print (X_train_sample.shape)\n",
        "# print (y_train_sample.shape)\n",
        "\n",
        "n = range (1,120,10) #step 10\n",
        "\n",
        "results = []\n",
        "for i in n:\n",
        "    clf = Pipeline([('vect', tfidf),\n",
        "                ('clf', RandomForestClassifier(n_estimators = i, random_state=0))])\n",
        "    clf.fit(X_train, y_train)\n",
        "    predictions = clf.predict(X_test)\n",
        "    results.append(accuracy_score(y_test, predictions))\n",
        "plt.grid()    \n",
        "plt.scatter(n, results)"
      ],
      "execution_count": 0,
      "outputs": [
        {
          "output_type": "execute_result",
          "data": {
            "text/plain": [
              "<matplotlib.collections.PathCollection at 0x7ff787841f28>"
            ]
          },
          "metadata": {
            "tags": []
          },
          "execution_count": 47
        },
        {
          "output_type": "display_data",
          "data": {
            "image/png": "[encoded data removed]",
            "text/plain": [
              "<Figure size 432x288 with 1 Axes>"
            ]
          },
          "metadata": {
            "tags": []
          }
        }
      ]
    },
    {
      "metadata": {
        "id": "st_NhavqMg90",
        "colab_type": "code",
        "outputId": "e3d8d89a-11f9-4604-d8cd-4ed3d829eddf",
        "colab": {
          "base_uri": "https://localhost:8080/",
          "height": 308
        }
      },
      "cell_type": "code",
      "source": [
        "from sklearn.ensemble import RandomForestClassifier\n",
        "\n",
        "tfidf = TfidfVectorizer(lowercase=False,\n",
        "                        tokenizer=tokenizer_porter,\n",
        "                        preprocessor=preprocessor)\n",
        "clf = Pipeline([('vect', tfidf),\n",
        "                ('clf', RandomForestClassifier(n_estimators = 80, random_state=0))])\n",
        "\n",
        "clf.fit(X_train, y_train)\n",
        "\n",
        "predictions = clf.predict(X_test)\n",
        "print('Accuracy:',accuracy_score(y_test,predictions))\n",
        "print('Confusion matrix:\\n',confusion_matrix(y_test,predictions))\n",
        "print('Classification report:\\n',classification_report(y_test,predictions))"
      ],
      "execution_count": 0,
      "outputs": [
        {
          "output_type": "stream",
          "text": [
            "Accuracy: 0.6133427711909396\n",
            "Confusion matrix:\n",
            " [[1244  300  239]\n",
            " [ 172 1502  336]\n",
            " [ 240  898  720]]\n",
            "Classification report:\n",
            "               precision    recall  f1-score   support\n",
            "\n",
            "           0       0.75      0.70      0.72      1783\n",
            "           1       0.56      0.75      0.64      2010\n",
            "           2       0.56      0.39      0.46      1858\n",
            "\n",
            "   micro avg       0.61      0.61      0.61      5651\n",
            "   macro avg       0.62      0.61      0.61      5651\n",
            "weighted avg       0.62      0.61      0.61      5651\n",
            "\n"
          ],
          "name": "stdout"
        }
      ]
    },
    {
      "metadata": {
        "id": "lZ3o7VHRMrpb",
        "colab_type": "text"
      },
      "cell_type": "markdown",
      "source": [
        "###solve with SVM"
      ]
    },
    {
      "metadata": {
        "id": "V-2yUWIrMm_Z",
        "colab_type": "code",
        "outputId": "153a862d-0660-468d-a7e3-b5f576d4510a",
        "colab": {
          "base_uri": "https://localhost:8080/",
          "height": 308
        }
      },
      "cell_type": "code",
      "source": [
        "# the SVM model\n",
        "from sklearn.svm import SVC\n",
        "\n",
        "tfidf = TfidfVectorizer(lowercase=False,\n",
        "                        tokenizer=tokenizer_porter,\n",
        "                        preprocessor=preprocessor)\n",
        "clf = Pipeline([('vect', tfidf),\n",
        "                ('clf', SVC(kernel = 'linear'))])\n",
        "clf.fit(X_train, y_train)\n",
        "\n",
        "predictions = clf.predict(X_test)\n",
        "print('Accuracy:',accuracy_score(y_test,predictions))\n",
        "print('Confusion matrix:\\n',confusion_matrix(y_test,predictions))\n",
        "print('Classification report:\\n',classification_report(y_test,predictions))"
      ],
      "execution_count": 0,
      "outputs": [
        {
          "output_type": "stream",
          "text": [
            "Accuracy: 0.6446646611219253\n",
            "Confusion matrix:\n",
            " [[1334  192  257]\n",
            " [ 219 1373  418]\n",
            " [ 283  639  936]]\n",
            "Classification report:\n",
            "               precision    recall  f1-score   support\n",
            "\n",
            "           0       0.73      0.75      0.74      1783\n",
            "           1       0.62      0.68      0.65      2010\n",
            "           2       0.58      0.50      0.54      1858\n",
            "\n",
            "   micro avg       0.64      0.64      0.64      5651\n",
            "   macro avg       0.64      0.65      0.64      5651\n",
            "weighted avg       0.64      0.64      0.64      5651\n",
            "\n"
          ],
          "name": "stdout"
        }
      ]
    },
    {
      "metadata": {
        "id": "t3JqIiuHM5jY",
        "colab_type": "text"
      },
      "cell_type": "markdown",
      "source": [
        "### Experimental Results\n",
        "\n",
        "Accuracy:\n",
        " - **Logistic Regression**: 65.08%  \n",
        " - **Random Forest**: 61.33%  \n",
        " - **SVM**: 64.46%  \n",
        " \n",
        "Winner: **SVM** model"
      ]
    },
    {
      "metadata": {
        "id": "wPn6SUbdNDw0",
        "colab_type": "text"
      },
      "cell_type": "markdown",
      "source": [
        "## Ensemble technique - Take advantage of both 3 models"
      ]
    },
    {
      "metadata": {
        "id": "GM3SuVzkMwGZ",
        "colab_type": "code",
        "outputId": "48832b0a-7c32-491a-82ec-5ed4c84f4b2a",
        "colab": {
          "base_uri": "https://localhost:8080/",
          "height": 364
        }
      },
      "cell_type": "code",
      "source": [
        "from sklearn.ensemble import VotingClassifier\n",
        "\n",
        "\n",
        "clf1 = LogisticRegression(multi_class='ovr', random_state=0)\n",
        "clf2 = RandomForestClassifier(n_estimators = 80, random_state=0)\n",
        "clf3 = SVC(kernel = 'linear',probability = True, random_state=0)\n",
        "\n",
        "ensemble_clf = VotingClassifier(estimators=[\n",
        "        ('lr', clf1), ('rf', clf2), ('svm', clf3)], voting='soft')\n",
        "\n",
        "clf = Pipeline([('vect', tfidf),\n",
        "                ('clf', ensemble_clf)])\n",
        "\n",
        "clf.fit(X_train, y_train)\n",
        "\n",
        "# ensemble_clf.fit(X_train, y_train)\n",
        "\n",
        "predictions = clf.predict(X_test)\n",
        "print('Accuracy:',accuracy_score(y_test,predictions))\n",
        "print('Confusion matrix:\\n',confusion_matrix(y_test,predictions))\n",
        "print('Classification report:\\n',classification_report(y_test,predictions))"
      ],
      "execution_count": 0,
      "outputs": [
        {
          "output_type": "stream",
          "text": [
            "/usr/local/lib/python3.6/dist-packages/sklearn/linear_model/logistic.py:433: FutureWarning: Default solver will be changed to 'lbfgs' in 0.22. Specify a solver to silence this warning.\n",
            "  FutureWarning)\n"
          ],
          "name": "stderr"
        },
        {
          "output_type": "stream",
          "text": [
            "Accuracy: 0.6535126526278535\n",
            "Confusion matrix:\n",
            " [[1344  199  240]\n",
            " [ 218 1423  369]\n",
            " [ 283  649  926]]\n",
            "Classification report:\n",
            "               precision    recall  f1-score   support\n",
            "\n",
            "           0       0.73      0.75      0.74      1783\n",
            "           1       0.63      0.71      0.66      2010\n",
            "           2       0.60      0.50      0.55      1858\n",
            "\n",
            "   micro avg       0.65      0.65      0.65      5651\n",
            "   macro avg       0.65      0.65      0.65      5651\n",
            "weighted avg       0.65      0.65      0.65      5651\n",
            "\n"
          ],
          "name": "stdout"
        }
      ]
    },
    {
      "metadata": {
        "id": "A6-3p7J2ZwpR",
        "colab_type": "text"
      },
      "cell_type": "markdown",
      "source": [
        "### Experimental Results\n",
        "\n",
        "**The increase of accuracy is not significant at all - only 0.28% (65.35% - 65.08%)**. But it is worth running experiment since ensemble learning usually yields better results.\n",
        "\n",
        "--> Maybe i need to research more to select precisely the classifiers for ensemble system in the futures."
      ]
    },
    {
      "metadata": {
        "id": "fELNRjAwaTQU",
        "colab_type": "text"
      },
      "cell_type": "markdown",
      "source": [
        "# Conclusions\n",
        "\n",
        "I implemented a system of Gender classification based on the dataset provided on Kaggle.\n",
        "This is actually an interesting problem among with the Sentiment classification problem, which is more popular.\n",
        "\n",
        "As I intended to implement classifiers based on Text data, i also wanted to explore whether other features can help the model classify Gender. Therefore, i plotted different graphs to visualize them. The results show that **link_color** may give additional useful information for classification task. \n",
        "\n",
        "The results show that Only the **Tweet text** can yield a moderate accuracy, although it's not sustantially high.\n",
        "But with the content from the **Description**, the classifiers actually improve its performance significantly.\n",
        "\n",
        "I also tried implementing Ensemble learning as one of my idea during the implementation, however, it only slightly increases the accuracy. \n"
      ]
    },
    {
      "metadata": {
        "id": "GZ2m94tOaYSh",
        "colab_type": "text"
      },
      "cell_type": "markdown",
      "source": [
        " - Re-implement ensemble learning system with further research\n",
        " - Extract link_color features to add to the models\n",
        " - Try applying Deep Learning (optional)"
      ]
    }
  ]
}